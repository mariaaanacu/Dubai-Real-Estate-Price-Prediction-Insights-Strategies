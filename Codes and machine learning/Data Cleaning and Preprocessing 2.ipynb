{
 "cells": [
  {
   "cell_type": "markdown",
   "id": "2704cdb9-eeeb-4f3b-a71d-a6aa5225f293",
   "metadata": {},
   "source": [
    "# Integrating Macroeconomic Indicators into Rents and Transactions Data\n",
    "\n",
    "## Introduction"
   ]
  },
  {
   "cell_type": "markdown",
   "id": "f0a62ee8-b4aa-4dbb-8973-53b4c8c5c738",
   "metadata": {},
   "source": [
    "In this chapter, I focus on enhancing the transactions and rents datasets by integrating relevant macroeconomic indicators. My goal is to ensure that these datasets are enriched with external factors that have a significant influence on the real estate market. By including these indicators, I aim to capture the broader economic and social context that affects property values and rental trends.\n"
   ]
  },
  {
   "cell_type": "markdown",
   "id": "06388288-362c-444f-81f6-1b22157e3003",
   "metadata": {},
   "source": [
    "# Rents Dataset"
   ]
  },
  {
   "cell_type": "code",
   "execution_count": null,
   "id": "b8b57401-9884-43eb-97fd-d786a7f1bd60",
   "metadata": {},
   "outputs": [],
   "source": [
    "import pandas as pd\n",
    "\n",
    "rents_file_path = r\"D:\\Desights.ai\\Dubai Real Estate Price Prediction Challenge\\Cleaned Files\\Rents & Transactions\\rents_cleaned.xlsx\"\n",
    "cpi_file_path = r\"D:\\Desights.ai\\Dubai Real Estate Price Prediction Challenge\\Cleaned Files\\Consumer Price Index\\Consumer_Price_Index_Monthly.xlsx\"\n",
    "output_file_path = r\"D:\\Desights.ai\\Dubai Real Estate Price Prediction Challenge\\Cleaned Files\\rents_with_cpi.csv\"\n",
    "\n",
    "rents_df = pd.read_excel(rents_file_path)\n",
    "cpi_df = pd.read_excel(cpi_file_path)\n",
    "\n",
    "rents_df['YearMonth'] = pd.to_datetime(rents_df['Registration Date']).dt.to_period('M')\n",
    "cpi_df['YearMonth'] = pd.to_datetime(cpi_df['Date']).dt.to_period('M')\n",
    "\n",
    "merged_df = rents_df.merge(cpi_df[['YearMonth', 'CPI Value']], on='YearMonth', how='left')\n",
    "\n",
    "merged_df.drop(columns='YearMonth', inplace=True)\n",
    "\n",
    "merged_df.to_csv(output_file_path, index=False)\n",
    "\n",
    "print(\"Merge complet! Fișierul rezultat a fost salvat ca 'rents_with_cpi.csv'.\")"
   ]
  },
  {
   "cell_type": "code",
   "execution_count": null,
   "id": "d2557ea9-94d6-4c09-80ab-0680a0b766e9",
   "metadata": {},
   "outputs": [],
   "source": [
    "import pandas as pd\n",
    "\n",
    "rents_with_cpi_file_path = r\"D:\\Desights.ai\\Dubai Real Estate Price Prediction Challenge\\Cleaned Files\\rents_with_cpi.xlsx\"\n",
    "aed_usd_file_path = r\"D:\\Desights.ai\\Dubai Real Estate Price Prediction Challenge\\Cleaned Files\\Currency Strength\\AED-USD_Cleaned.xlsx\"\n",
    "output_file_path = r\"D:\\Desights.ai\\Dubai Real Estate Price Prediction Challenge\\Cleaned Files\\rents_with_cpi_aed_usd.csv\"\n",
    "\n",
    "rents_with_cpi_df = pd.read_excel(rents_with_cpi_file_path)\n",
    "aed_usd_df = pd.read_excel(aed_usd_file_path)\n",
    "\n",
    "rents_with_cpi_df['Registration Date'] = pd.to_datetime(rents_with_cpi_df['Registration Date'])\n",
    "aed_usd_df['Date'] = pd.to_datetime(aed_usd_df['Date'])\n",
    "\n",
    "merged_df = rents_with_cpi_df.merge(\n",
    "    aed_usd_df[['Date', 'Close', 'Return']],\n",
    "    left_on='Registration Date',\n",
    "    right_on='Date',\n",
    "    how='left'\n",
    ")\n",
    "\n",
    "merged_df.drop(columns='Date', inplace=True)\n",
    "\n",
    "merged_df.to_csv(output_file_path, index=False)\n",
    "\n",
    "print(\"Merge complet! Fișierul rezultat a fost salvat ca 'rents_with_cpi_aed_usd.csv'.\")\n"
   ]
  },
  {
   "cell_type": "code",
   "execution_count": 10,
   "id": "07812d3b-2bfe-4cb0-95ac-d368ce599340",
   "metadata": {},
   "outputs": [
    {
     "name": "stdout",
     "output_type": "stream",
     "text": [
      "Corrected daily GDP data has been saved at 'D:\\Desights.ai\\Dubai Real Estate Price Prediction Challenge\\Cleaned Files\\GDP_Daily_Expanded.xlsx'.\n"
     ]
    }
   ],
   "source": [
    "import pandas as pd\n",
    "\n",
    "gdp_file_path = r\"D:\\Desights.ai\\Dubai Real Estate Price Prediction Challenge\\Cleaned Files\\Gross Domestic Product\\GDP_Quarterly_Constant_Prices_cleaned.xlsx\"\n",
    "output_file_path = r\"D:\\Desights.ai\\Dubai Real Estate Price Prediction Challenge\\Cleaned Files\\GDP_Daily_Expanded.xlsx\"\n",
    "\n",
    "gdp = pd.read_excel(gdp_file_path)\n",
    "\n",
    "gdp['Date'] = pd.to_datetime(gdp['Date'])\n",
    "\n",
    "daily_gdp_data = []\n",
    "\n",
    "for i, row in gdp.iterrows():\n",
    "    start_date = row['Date']\n",
    "    \n",
    "    if row['QUARTER'] == 'Q1':\n",
    "        end_date = pd.Timestamp(f\"{row['Year']}-03-31\")\n",
    "    elif row['QUARTER'] == 'Q2':\n",
    "        end_date = pd.Timestamp(f\"{row['Year']}-06-30\")\n",
    "    elif row['QUARTER'] == 'Q3':\n",
    "        end_date = pd.Timestamp(f\"{row['Year']}-09-30\")\n",
    "    elif row['QUARTER'] == 'Q4':\n",
    "        end_date = pd.Timestamp(f\"{row['Year']}-12-31\")\n",
    "    \n",
    "    if end_date > gdp['Date'].max():\n",
    "        end_date = gdp['Date'].max()\n",
    "    \n",
    "    daily_gdp_data.extend([\n",
    "        {\n",
    "            'Date': date,\n",
    "            'GDP Value': row['GDP Value'],\n",
    "            'GDP Category': row['GDP Category']\n",
    "        }\n",
    "        for date in pd.date_range(start=start_date, end=end_date, freq='D')\n",
    "    ])\n",
    "\n",
    "daily_gdp = pd.DataFrame(daily_gdp_data)\n",
    "\n",
    "daily_gdp.to_excel(output_file_path, index=False)\n",
    "\n",
    "print(f\"Corrected daily GDP data has been saved at '{output_file_path}'.\")\n",
    "\n"
   ]
  },
  {
   "cell_type": "code",
   "execution_count": 1,
   "id": "1d153458-dfd3-44ea-a975-15e089508a9e",
   "metadata": {},
   "outputs": [
    {
     "name": "stderr",
     "output_type": "stream",
     "text": [
      "C:\\Users\\User\\AppData\\Local\\Temp\\ipykernel_8652\\294076567.py:21: SettingWithCopyWarning: \n",
      "A value is trying to be set on a copy of a slice from a DataFrame\n",
      "\n",
      "See the caveats in the documentation: https://pandas.pydata.org/pandas-docs/stable/user_guide/indexing.html#returning-a-view-versus-a-copy\n",
      "  filtered_gdp.sort_values('Date', inplace=True)\n"
     ]
    },
    {
     "name": "stdout",
     "output_type": "stream",
     "text": [
      "Merged file saved with multiple sheets to: D:\\Desights.ai\\Dubai Real Estate Price Prediction Challenge\\Cleaned Files\\merged_rents_with_tot_gdp_split.xlsx\n"
     ]
    }
   ],
   "source": [
    "import pandas as pd\n",
    "\n",
    "rents_file_path = r\"D:\\Desights.ai\\Dubai Real Estate Price Prediction Challenge\\Cleaned Files\\rents_with_cpi_aed_usd.xlsx\"\n",
    "gdp_daily_file_path = r\"D:\\Desights.ai\\Dubai Real Estate Price Prediction Challenge\\Cleaned Files\\GDP_Daily_Expanded.xlsx\"\n",
    "output_file_path = r\"D:\\Desights.ai\\Dubai Real Estate Price Prediction Challenge\\Cleaned Files\\merged_rents_with_tot_gdp_split.xlsx\"\n",
    "\n",
    "rents = pd.read_excel(rents_file_path)\n",
    "gdp_daily = pd.read_excel(gdp_daily_file_path)\n",
    "\n",
    "rents['Registration Date'] = pd.to_datetime(rents['Registration Date'])\n",
    "gdp_daily['Date'] = pd.to_datetime(gdp_daily['Date'])\n",
    "\n",
    "filtered_gdp = gdp_daily[gdp_daily['GDP Category'] == 'TOT_GDP']\n",
    "\n",
    "rents.sort_values('Registration Date', inplace=True)\n",
    "filtered_gdp.sort_values('Date', inplace=True)\n",
    "\n",
    "filtered_gdp = filtered_gdp.drop_duplicates(subset=['Date'])\n",
    "\n",
    "merged_data = pd.merge(\n",
    "    rents,\n",
    "    filtered_gdp,\n",
    "    left_on='Registration Date',\n",
    "    right_on='Date',\n",
    "    how='left'\n",
    ")\n",
    "\n",
    "merged_data.drop(columns=['Date'], inplace=True)\n",
    "\n",
    "chunk_size = 1_000_000  \n",
    "with pd.ExcelWriter(output_file_path, engine='openpyxl') as writer:\n",
    "    for i in range(0, len(merged_data), chunk_size):\n",
    "        sheet_name = f\"Sheet_{i // chunk_size + 1}\"  \n",
    "        merged_data.iloc[i:i + chunk_size].to_excel(writer, sheet_name=sheet_name, index=False)\n",
    "\n",
    "print(f\"Merged file saved with multiple sheets to: {output_file_path}\")\n"
   ]
  },
  {
   "cell_type": "code",
   "execution_count": 4,
   "id": "a1ee8aca-653a-4010-aaca-a561b772bb9f",
   "metadata": {},
   "outputs": [
    {
     "name": "stdout",
     "output_type": "stream",
     "text": [
      "Loading datasets...\n",
      "Preparing population data...\n",
      "Merging sheets...\n"
     ]
    },
    {
     "name": "stderr",
     "output_type": "stream",
     "text": [
      "Merging Sheets: 100%|████████████████████████████████████████████████████████████████████| 2/2 [00:00<00:00,  4.31it/s]\n"
     ]
    },
    {
     "name": "stdout",
     "output_type": "stream",
     "text": [
      "Combining all sheets into a single DataFrame...\n",
      "Saving merged data to CSV...\n",
      "Merged file with annual population data saved to: D:\\Desights.ai\\Dubai Real Estate Price Prediction Challenge\\Cleaned Files\\Merged_CSV_Corrected.csv\n"
     ]
    }
   ],
   "source": [
    "import pandas as pd\n",
    "from tqdm import tqdm\n",
    "\n",
    "rents_file_path = r\"D:\\Desights.ai\\Dubai Real Estate Price Prediction Challenge\\Cleaned Files\\merged_rents_with_tot_gdp_split.xlsx\"\n",
    "population_file_path = r\"D:\\Desights.ai\\Dubai Real Estate Price Prediction Challenge\\Cleaned Files\\Population\\Population_Estimates_and_Growth_by_Gender_cleaned.xlsx\"\n",
    "output_file_path = r\"D:\\Desights.ai\\Dubai Real Estate Price Prediction Challenge\\Cleaned Files\\Merged_CSV_Corrected.csv\"\n",
    "\n",
    "print(\"Loading datasets...\")\n",
    "rents = pd.read_excel(rents_file_path, sheet_name=None)  \n",
    "population = pd.read_excel(population_file_path)\n",
    "\n",
    "print(\"Preparing population data...\")\n",
    "population[\"Year\"] = pd.to_datetime(population[\"Date\"]).dt.year\n",
    "population = population[[\"Year\", \"Value\", \"GENDER\"]]  \n",
    "population.rename(columns={\"Value\": \"Population\"}, inplace=True)\n",
    "\n",
    "merged_data = []\n",
    "\n",
    "print(\"Merging sheets...\")\n",
    "for sheet_name, sheet_data in tqdm(rents.items(), desc=\"Merging Sheets\"):\n",
    "    sheet_data['Year'] = pd.to_datetime(sheet_data['Registration Date']).dt.year\n",
    "\n",
    "    sheet_data['GENDER'] = '_T'\n",
    "\n",
    "    merged_sheet = pd.merge(\n",
    "        sheet_data,\n",
    "        population,\n",
    "        on=[\"Year\", \"GENDER\"],  \n",
    "        how=\"left\" \n",
    "    )\n",
    "\n",
    "    merged_data.append(merged_sheet)\n",
    "\n",
    "print(\"Combining all sheets into a single DataFrame...\")\n",
    "final_merged_data = pd.concat(merged_data, ignore_index=True)\n",
    "\n",
    "print(\"Saving merged data to CSV...\")\n",
    "final_merged_data.to_csv(output_file_path, index=False)\n",
    "\n",
    "print(f\"Merged file with annual population data saved to: {output_file_path}\")\n"
   ]
  },
  {
   "cell_type": "code",
   "execution_count": 7,
   "id": "4e77af5b-ffab-4281-87cb-d663b2a9de60",
   "metadata": {},
   "outputs": [
    {
     "name": "stdout",
     "output_type": "stream",
     "text": [
      "Loading datasets...\n"
     ]
    },
    {
     "name": "stderr",
     "output_type": "stream",
     "text": [
      "C:\\Users\\User\\AppData\\Local\\Temp\\ipykernel_10012\\2178394570.py:10: DtypeWarning: Columns (12) have mixed types. Specify dtype option on import or set low_memory=False.\n",
      "  rents = pd.read_csv(rents_file_path)\n"
     ]
    },
    {
     "name": "stdout",
     "output_type": "stream",
     "text": [
      "Preparing tourism data...\n",
      "Merging datasets...\n",
      "Saving merged data...\n"
     ]
    },
    {
     "name": "stderr",
     "output_type": "stream",
     "text": [
      "C:\\Users\\User\\AppData\\Local\\Temp\\ipykernel_10012\\2178394570.py:18: SettingWithCopyWarning: \n",
      "A value is trying to be set on a copy of a slice from a DataFrame\n",
      "\n",
      "See the caveats in the documentation: https://pandas.pydata.org/pandas-docs/stable/user_guide/indexing.html#returning-a-view-versus-a-copy\n",
      "  tourism_prepared.rename(columns={\"OBS_VALUE\": \"Revenue_Per_Room\"}, inplace=True)\n"
     ]
    },
    {
     "name": "stdout",
     "output_type": "stream",
     "text": [
      "Merged file with tourism data saved to: D:\\Desights.ai\\Dubai Real Estate Price Prediction Challenge\\Cleaned Files\\Merged_With_Tourism.csv\n"
     ]
    }
   ],
   "source": [
    "import pandas as pd\n",
    "\n",
    "rents_file_path = r\"D:\\Desights.ai\\Dubai Real Estate Price Prediction Challenge\\Cleaned Files\\Merged_CSV_Corrected.csv\"\n",
    "tourism_file_path = r\"D:\\Desights.ai\\Dubai Real Estate Price Prediction Challenge\\Cleaned Files\\Tourism\\Hotel_Establishments_Main_Indicators_cleaned.xlsx\"\n",
    "output_file_path = r\"D:\\Desights.ai\\Dubai Real Estate Price Prediction Challenge\\Cleaned Files\\Merged_With_Tourism.csv\"\n",
    "\n",
    "print(\"Loading datasets...\")\n",
    "rents = pd.read_csv(rents_file_path)\n",
    "tourism = pd.read_excel(tourism_file_path)\n",
    "\n",
    "print(\"Preparing tourism data...\")\n",
    "tourism[\"Year\"] = pd.to_datetime(tourism[\"TIME_PERIOD\"]).dt.year\n",
    "tourism_filtered = tourism[tourism[\"H_INDICATOR\"] == \"RR\"]  \n",
    "tourism_prepared = tourism_filtered[[\"Year\", \"OBS_VALUE\"]]  \n",
    "tourism_prepared.rename(columns={\"OBS_VALUE\": \"Revenue_Per_Room\"}, inplace=True)\n",
    "\n",
    "print(\"Merging datasets...\")\n",
    "rents_merged = pd.merge(\n",
    "    rents,\n",
    "    tourism_prepared,\n",
    "    on=\"Year\",  \n",
    "    how=\"left\"  \n",
    ")\n",
    "\n",
    "print(\"Saving merged data...\")\n",
    "rents_merged.to_csv(output_file_path, index=False)\n",
    "\n",
    "print(f\"Merged file with tourism data saved to: {output_file_path}\")\n"
   ]
  },
  {
   "cell_type": "code",
   "execution_count": 15,
   "id": "8a154806-8952-4b4e-9f4d-97af2a02e90f",
   "metadata": {},
   "outputs": [
    {
     "name": "stderr",
     "output_type": "stream",
     "text": [
      "C:\\Users\\User\\AppData\\Local\\Temp\\ipykernel_10012\\457750714.py:5: DtypeWarning: Columns (12) have mixed types. Specify dtype option on import or set low_memory=False.\n",
      "  rents_data = pd.read_csv(rents_file_path)\n"
     ]
    },
    {
     "name": "stdout",
     "output_type": "stream",
     "text": [
      "Merged file saved at: D:\\Desights.ai\\Dubai Real Estate Price Prediction Challenge\\Cleaned Files\\Merged_With_Indicators.csv\n"
     ]
    }
   ],
   "source": [
    "import pandas as pd\n",
    "\n",
    "rents_file_path = r\"D:\\Desights.ai\\Dubai Real Estate Price Prediction Challenge\\Cleaned Files\\Merged_With_Tourism.csv\"\n",
    "rents_data = pd.read_csv(rents_file_path)\n",
    "\n",
    "indicators_file_path = r\"D:\\Desights.ai\\Dubai Real Estate Price Prediction Challenge\\Cleaned Files\\World Development Indicators\\World_Development_Indicator_cleaned.xlsx\"\n",
    "indicators_data = pd.read_excel(indicators_file_path)\n",
    "\n",
    "rents_data['Year'] = pd.to_numeric(rents_data['Year'], errors='coerce')\n",
    "indicators_data['Year'] = pd.to_datetime(indicators_data['Year']).dt.year\n",
    "\n",
    "selected_indicators = [\n",
    "    'Urban population (% of total population)',\n",
    "    'Population ages 15-64 (% of total population)',\n",
    "    'GDP per capita (current US$)',\n",
    "    'Unemployment, total (% of total labor force) (national estimate)',\n",
    "    'Population in urban agglomerations of more than 1 million (% of total population)'\n",
    "]\n",
    "indicators_data_filtered = indicators_data[indicators_data['Indicator Name'].isin(selected_indicators)]\n",
    "\n",
    "indicators_pivot = indicators_data_filtered.pivot_table(\n",
    "    index=['Country Code', 'Year'],\n",
    "    columns='Indicator Name',\n",
    "    values='Value'\n",
    ").reset_index()\n",
    "\n",
    "merged_data = pd.merge(\n",
    "    rents_data,\n",
    "    indicators_pivot,\n",
    "    how='left',\n",
    "    left_on='Year',\n",
    "    right_on='Year'\n",
    ")\n",
    "\n",
    "output_path = r\"D:\\Desights.ai\\Dubai Real Estate Price Prediction Challenge\\Cleaned Files\\Merged_With_Indicators.csv\"\n",
    "merged_data.to_csv(output_path, index=False)\n",
    "\n",
    "print(f\"Merged file saved at: {output_path}\")\n"
   ]
  },
  {
   "cell_type": "markdown",
   "id": "70a28752-de84-4fdb-89e5-e4c4fe2c1159",
   "metadata": {},
   "source": [
    "## Integrating Macroeconomic Indicators into the Rents Dataset\n",
    "\n",
    "### Objective\n",
    "\n",
    "This chapter focuses on enhancing the **rents dataset** with essential macroeconomic indicators. The goal is to provide a holistic view of the economic context that influences rental trends in Dubai. Each data integration was carefully chosen and implemented to ensure that the dataset captures the multidimensional factors driving the real estate market. Below, I detail the steps, the reasoning behind each decision, and the categories selected.\n",
    "\n",
    "---\n",
    "\n",
    "### Steps and Rationale\n",
    "\n",
    "#### 1. Adding Consumer Price Index (CPI)\n",
    "- **Why CPI?**  \n",
    "  Inflation directly affects the purchasing power of consumers and investors, influencing rental prices. The **CPI** is a widely used economic indicator that reflects the cost of living over time.\n",
    "- **Approach Taken:**  \n",
    "  - I extracted the `YearMonth` (e.g., \"2022-03\") from the `Registration Date` in the rents dataset and matched it with the same column in the CPI data.\n",
    "  - The left join ensured that all rent transactions were retained, even if some months lacked CPI data.\n",
    "  - The `CPI Value` column added inflation trends to the dataset.\n",
    "\n",
    "#### 2. Integrating AED-USD Exchange Rates\n",
    "- **Why Currency Strength?**  \n",
    "  Dubai’s real estate market attracts a significant number of international investors. Fluctuations in the AED-USD exchange rate can impact their purchasing decisions and, consequently, rental demand.\n",
    "- **Approach Taken:**  \n",
    "  - Daily exchange rates were aligned with the `Registration Date` in the rents dataset.\n",
    "  - I chose the `Close` rate to reflect the finalized daily exchange rate and `Return` to capture the rate's volatility.\n",
    "  - This decision provides insights into how currency strength correlates with rental behavior, especially during periods of significant fluctuation.\n",
    "\n",
    "#### 3. Incorporating Daily GDP Data\n",
    "- **Why GDP?**  \n",
    "  Gross Domestic Product (GDP) is a comprehensive measure of economic performance. By integrating GDP data, I aimed to evaluate the correlation between rental prices and overall economic activity.\n",
    "- **Approach Taken:**  \n",
    "  - I expanded quarterly GDP data into daily values to achieve a granular match with the `Registration Date` in the rents dataset.\n",
    "  - Only the **Total GDP (TOT_GDP)** category was retained as it reflects the overall economic health, making it more relevant than subcategories like sectoral GDP.\n",
    "  - This provided a detailed, daily view of how economic performance may have influenced rental patterns.\n",
    "\n",
    "#### 4. Adding Population Data\n",
    "- **Why Population Data?**  \n",
    "  Population trends are fundamental to understanding housing demand. Factors such as population growth, migration, and demographic distribution can directly affect the rental market.\n",
    "- **Approach Taken:**  \n",
    "  - I filtered the **Population Estimates and Growth by Gender** dataset to focus on the `_T` (total) category to capture overall population trends.\n",
    "  - Using the `Year` from the `Registration Date`, I merged the annual population data with the rents dataset.\n",
    "  - This decision enables analysis of how demographic changes influence rental behavior, especially in a rapidly growing city like Dubai.\n",
    "\n",
    "#### 5. Integrating Tourism Data\n",
    "- **Why Tourism Indicators?**  \n",
    "  Dubai is a global tourism hub, and transient populations such as tourists contribute to rental demand. Indicators like **Revenue Per Room (RR)** offer insights into market dynamics in tourist hotspots.\n",
    "- **Approach Taken:**  \n",
    "  - I filtered the tourism data to retain only the `Revenue Per Room (RR)` metric, which is a direct indicator of demand and revenue in the hospitality sector.\n",
    "  - The data was merged based on `Year`, aligning it with the `Registration Date` in the rents dataset.\n",
    "  - This inclusion allows for an understanding of how seasonal and annual tourism trends impact rental prices.\n",
    "\n",
    "#### 6. Adding World Development Indicators\n",
    "- **Why World Development Indicators?**  \n",
    "  Global and regional development indicators provide additional layers of context to analyze the rental market. For example:\n",
    "  - **Urban population (%)** reflects urbanization levels.\n",
    "  - **Population ages 15-64 (%)** captures the working-age population.\n",
    "  - **GDP per capita** indicates individual economic capacity.\n",
    "  - **Unemployment rates** reflect labor market health.\n",
    "  - **Population in urban agglomerations of >1 million** highlights city-level population density.\n",
    "- **Approach Taken:**  \n",
    "  - I selected only relevant indicators based on their potential impact on the rental market.\n",
    "  - The data was filtered and pivoted to align with the rents dataset on the `Year`.\n",
    "  - This integration helps examine long-term socioeconomic trends influencing rental prices.\n",
    "\n",
    "---\n",
    "\n",
    "### Validation and Challenges\n",
    "\n",
    "#### Validation Process\n",
    "- **Row Count Consistency:**  \n",
    "  I ensured that no rows were lost or duplicated during the merging process.\n",
    "- **Missing Data Analysis:**  \n",
    "  I analyzed missing values for each added column and noted their proportions for future imputation or exclusion.\n",
    "- **Data Distribution:**  \n",
    "  I examined the statistical distribution of each indicator to verify alignment with expected trends.\n",
    "- **Unmatched Records:**  \n",
    "  Unmatched records were identified and attributed to date ranges outside the scope of the external datasets.\n",
    "\n",
    "#### Challenges\n",
    "1. **Handling Missing Data:**  \n",
    "   Some indicators, such as unemployment rates, were incomplete for specific years. I decided to retain these rows and address missing data during preprocessing.\n",
    "2. **Temporal Alignment:**  \n",
    "   Aligning datasets with different temporal granularities (e.g., daily vs. annual) required careful handling to avoid mismatches.\n",
    "3. **Indicator Relevance:**  \n",
    "   I had to carefully filter and select only indicators that provided meaningful insights into rental market trends.\n",
    "\n",
    "---\n",
    "\n",
    "### Outcome\n",
    "\n",
    "The enriched dataset now includes the following macroeconomic indicators:\n",
    "- **CPI Value** for inflation trends.\n",
    "- **AED-USD exchange rates** for currency fluctuations.\n",
    "- **Daily GDP values** for economic activity.\n",
    "- **Population estimates** for demographic analysis.\n",
    "- **Tourism indicators** for external demand insights.\n",
    "- **World Development Indicators** for socioeconomic context.\n",
    "\n",
    "This comprehensive dataset offers a robust foundation for analyzing the impact of macroeconomic factors on Dubai’s rental market. It is ready for exploratory data analysis, correlation studies, and predictive modeling.\n",
    "\n",
    "---\n",
    "\n",
    "### Next Steps\n",
    "1. Perform exploratory data analysis (EDA) to uncover trends and relationships between the added indicators and rental prices.\n",
    "2. Develop machine learning models to predict rental prices using this enriched dataset.\n",
    "3. Identify actionable insights and trends that can guide strategic decisions for investors and policymakers.\n"
   ]
  },
  {
   "cell_type": "markdown",
   "id": "f0c4f868-5e12-4b0b-b420-412a15c61e2c",
   "metadata": {},
   "source": [
    "# Transactions Dataset"
   ]
  },
  {
   "cell_type": "code",
   "execution_count": 6,
   "id": "6b769147-6ac8-4a05-950b-36e1a229eb3d",
   "metadata": {},
   "outputs": [
    {
     "name": "stderr",
     "output_type": "stream",
     "text": [
      "C:\\Users\\User\\AppData\\Local\\Temp\\ipykernel_13852\\2434700888.py:23: FutureWarning: A value is trying to be set on a copy of a DataFrame or Series through chained assignment using an inplace method.\n",
      "The behavior will change in pandas 3.0. This inplace method will never work because the intermediate object on which we are setting values always behaves as a copy.\n",
      "\n",
      "For example, when doing 'df[col].method(value, inplace=True)', try using 'df.method({col: value}, inplace=True)' or df[col] = df[col].method(value) instead, to perform the operation inplace on the original object.\n",
      "\n",
      "\n",
      "  merged_df['CPI Value'].fillna(0, inplace=True)\n"
     ]
    },
    {
     "name": "stdout",
     "output_type": "stream",
     "text": [
      "Merge complet! Fișierul rezultat a fost salvat ca 'D:\\Desights.ai\\Dubai Real Estate Price Prediction Challenge\\Cleaned Files\\transactions_with_cpi.csv'.\n"
     ]
    }
   ],
   "source": [
    "import pandas as pd\n",
    "\n",
    "transactions_file_path = r\"D:\\Desights.ai\\Dubai Real Estate Price Prediction Challenge\\Cleaned Files\\Rents & Transactions\\transactions_cleaned.xlsx\"\n",
    "cpi_file_path = r\"D:\\Desights.ai\\Dubai Real Estate Price Prediction Challenge\\Cleaned Files\\Consumer Price Index\\Consumer_Price_Index_Monthly.xlsx\"\n",
    "output_file_path = r\"D:\\Desights.ai\\Dubai Real Estate Price Prediction Challenge\\Cleaned Files\\transactions_with_cpi.csv\"\n",
    "\n",
    "transactions_df = pd.read_excel(transactions_file_path)\n",
    "cpi_df = pd.read_excel(cpi_file_path)\n",
    "\n",
    "transactions_df['YearMonth'] = pd.to_datetime(transactions_df['Transaction Date']).dt.to_period('M')\n",
    "cpi_df['YearMonth'] = pd.to_datetime(cpi_df['Date']).dt.to_period('M')\n",
    "\n",
    "cpi_df = cpi_df.groupby('YearMonth').agg({'CPI Value': 'mean'}).reset_index()\n",
    "\n",
    "merged_df = transactions_df.merge(cpi_df, on='YearMonth', how='left')\n",
    "\n",
    "merged_df['CPI Value'].fillna(0, inplace=True)\n",
    "\n",
    "merged_df.drop(columns='YearMonth', inplace=True)\n",
    "\n",
    "merged_df.to_csv(output_file_path, index=False)\n",
    "\n",
    "print(f\"Merge complet! Fișierul rezultat a fost salvat ca '{output_file_path}'.\")\n"
   ]
  },
  {
   "cell_type": "code",
   "execution_count": 9,
   "id": "c97a0a90-15cf-41fb-b040-10e1031d0104",
   "metadata": {},
   "outputs": [
    {
     "name": "stderr",
     "output_type": "stream",
     "text": [
      "C:\\Users\\User\\AppData\\Local\\Temp\\ipykernel_13852\\3992648669.py:9: DtypeWarning: Columns (8) have mixed types. Specify dtype option on import or set low_memory=False.\n",
      "  merged_transactions_df = pd.read_csv(merged_transactions_path)\n"
     ]
    },
    {
     "name": "stdout",
     "output_type": "stream",
     "text": [
      "Merge complete! The resulting file has been saved at 'D:\\Desights.ai\\Dubai Real Estate Price Prediction Challenge\\Cleaned Files\\transactions_with_cpi_currency.csv'.\n"
     ]
    }
   ],
   "source": [
    "import pandas as pd\n",
    "\n",
    "merged_transactions_path = r\"D:\\Desights.ai\\Dubai Real Estate Price Prediction Challenge\\Cleaned Files\\transactions_with_cpi.csv\"\n",
    "currency_path = r\"D:\\Desights.ai\\Dubai Real Estate Price Prediction Challenge\\Cleaned Files\\Currency Strength\\AED-USD_Cleaned.xlsx\"\n",
    "output_path = r\"D:\\Desights.ai\\Dubai Real Estate Price Prediction Challenge\\Cleaned Files\\transactions_with_cpi_currency.csv\"\n",
    "\n",
    "merged_transactions_df = pd.read_csv(merged_transactions_path)\n",
    "currency_df = pd.read_excel(currency_path)\n",
    "\n",
    "merged_transactions_df['Transaction Date'] = pd.to_datetime(merged_transactions_df['Transaction Date'])\n",
    "currency_df['Date'] = pd.to_datetime(currency_df['Date'])\n",
    "\n",
    "currency_relevant = currency_df[['Date', 'Adj Close', 'Return']]\n",
    "\n",
    "merged_with_currency = merged_transactions_df.merge(currency_relevant, left_on='Transaction Date', right_on='Date', how='left')\n",
    "\n",
    "merged_with_currency.drop(columns=['Date'], inplace=True)\n",
    "\n",
    "merged_with_currency.to_csv(output_path, index=False)\n",
    "\n",
    "print(f\"Merge complete! The resulting file has been saved at '{output_path}'.\")\n"
   ]
  },
  {
   "cell_type": "code",
   "execution_count": 12,
   "id": "5cb8c568-10b3-4e48-a265-3015419a731e",
   "metadata": {},
   "outputs": [
    {
     "name": "stderr",
     "output_type": "stream",
     "text": [
      "C:\\Users\\User\\AppData\\Local\\Temp\\ipykernel_13852\\3551862849.py:9: DtypeWarning: Columns (8) have mixed types. Specify dtype option on import or set low_memory=False.\n",
      "  transactions = pd.read_csv(transactions_with_currency_path)\n",
      "C:\\Users\\User\\AppData\\Local\\Temp\\ipykernel_13852\\3551862849.py:21: SettingWithCopyWarning: \n",
      "A value is trying to be set on a copy of a slice from a DataFrame\n",
      "\n",
      "See the caveats in the documentation: https://pandas.pydata.org/pandas-docs/stable/user_guide/indexing.html#returning-a-view-versus-a-copy\n",
      "  filtered_gdp.sort_values('Date', inplace=True)\n"
     ]
    },
    {
     "name": "stdout",
     "output_type": "stream",
     "text": [
      "Merged file saved to: D:\\Desights.ai\\Dubai Real Estate Price Prediction Challenge\\Cleaned Files\\merged_transactions_with_gdp.csv\n"
     ]
    }
   ],
   "source": [
    "import pandas as pd\n",
    "\n",
    "transactions_with_currency_path = r\"D:\\Desights.ai\\Dubai Real Estate Price Prediction Challenge\\Cleaned Files\\transactions_with_cpi_currency.csv\"\n",
    "gdp_daily_path = r\"D:\\Desights.ai\\Dubai Real Estate Price Prediction Challenge\\Cleaned Files\\Gross Domestic Product\\GDP_Daily_Expanded.xlsx\"\n",
    "output_file_path = r\"D:\\Desights.ai\\Dubai Real Estate Price Prediction Challenge\\Cleaned Files\\merged_transactions_with_gdp.csv\"\n",
    "\n",
    "transactions = pd.read_csv(transactions_with_currency_path)\n",
    "gdp_daily = pd.read_excel(gdp_daily_path)\n",
    "\n",
    "transactions['Transaction Date'] = pd.to_datetime(transactions['Transaction Date'])\n",
    "gdp_daily['Date'] = pd.to_datetime(gdp_daily['Date'])\n",
    "\n",
    "filtered_gdp = gdp_daily[gdp_daily['GDP Category'] == 'TOT_GDP']\n",
    "\n",
    "transactions.sort_values('Transaction Date', inplace=True)\n",
    "filtered_gdp.sort_values('Date', inplace=True)\n",
    "\n",
    "filtered_gdp = filtered_gdp.drop_duplicates(subset=['Date'])\n",
    "\n",
    "merged_data = pd.merge(\n",
    "    transactions,\n",
    "    filtered_gdp,\n",
    "    left_on='Transaction Date',\n",
    "    right_on='Date',\n",
    "    how='left'\n",
    ")\n",
    "\n",
    "merged_data.drop(columns=['Date'], inplace=True)\n",
    "\n",
    "merged_data.to_csv(output_file_path, index=False)\n",
    "print(f\"Merged file saved to: {output_file_path}\")\n"
   ]
  },
  {
   "cell_type": "code",
   "execution_count": 22,
   "id": "725ad9c4-c585-4c07-a4c7-81055965df29",
   "metadata": {},
   "outputs": [
    {
     "name": "stdout",
     "output_type": "stream",
     "text": [
      "Loading datasets...\n"
     ]
    },
    {
     "name": "stderr",
     "output_type": "stream",
     "text": [
      "C:\\Users\\User\\AppData\\Local\\Temp\\ipykernel_13852\\1424244179.py:11: DtypeWarning: Columns (19) have mixed types. Specify dtype option on import or set low_memory=False.\n",
      "  transactions = pd.read_csv(transactions_file_path)\n"
     ]
    },
    {
     "name": "stdout",
     "output_type": "stream",
     "text": [
      "Datasets loaded successfully.\n",
      "Filtering population data...\n",
      "Population data filtered.\n",
      "Merging transactions with population data...\n",
      "Merging completed.\n",
      "Saving merged data...\n",
      "Merged file with total population data saved to: D:\\Desights.ai\\Dubai Real Estate Price Prediction Challenge\\Cleaned Files\\merged_transactions_with_total_population.csv\n"
     ]
    }
   ],
   "source": [
    "import pandas as pd\n",
    "from tqdm import tqdm  \n",
    "\n",
    "transactions_file_path = r\"D:\\Desights.ai\\Dubai Real Estate Price Prediction Challenge\\Cleaned Files\\merged_transactions_with_gdp.csv\"\n",
    "population_file_path = r\"D:\\Desights.ai\\Dubai Real Estate Price Prediction Challenge\\Cleaned Files\\Population\\Population_Estimates_and_Growth_by_Gender_cleaned.xlsx\"\n",
    "output_file_path = r\"D:\\Desights.ai\\Dubai Real Estate Price Prediction Challenge\\Cleaned Files\\merged_transactions_with_total_population.csv\"\n",
    "\n",
    "print(\"Loading datasets...\")\n",
    "transactions = pd.read_csv(transactions_file_path)\n",
    "population = pd.read_excel(population_file_path)\n",
    "print(\"Datasets loaded successfully.\")\n",
    "\n",
    "print(\"Filtering population data...\")\n",
    "population[\"Year\"] = pd.to_datetime(population[\"Date\"]).dt.year  \n",
    "population_total = population[population[\"GENDER\"] == \"_T\"]  \n",
    "population_total = population_total[[\"Year\", \"Value\"]]  \n",
    "population_total.rename(columns={\"Value\": \"Total Population\"}, inplace=True)\n",
    "print(\"Population data filtered.\")\n",
    "\n",
    "transactions[\"Year\"] = pd.to_datetime(transactions[\"Transaction Date\"]).dt.year\n",
    "\n",
    "print(\"Merging transactions with population data...\")\n",
    "merged_data = pd.merge(\n",
    "    transactions,\n",
    "    population_total,\n",
    "    on=\"Year\",  \n",
    "    how=\"left\" \n",
    ")\n",
    "print(\"Merging completed.\")\n",
    "\n",
    "print(\"Saving merged data...\")\n",
    "merged_data.to_csv(output_file_path, index=False)\n",
    "print(f\"Merged file with total population data saved to: {output_file_path}\")\n"
   ]
  },
  {
   "cell_type": "code",
   "execution_count": 25,
   "id": "3bc78139-8729-45df-a4c2-e4cb1af72034",
   "metadata": {},
   "outputs": [
    {
     "name": "stdout",
     "output_type": "stream",
     "text": [
      "Loading datasets...\n"
     ]
    },
    {
     "name": "stderr",
     "output_type": "stream",
     "text": [
      "C:\\Users\\User\\AppData\\Local\\Temp\\ipykernel_13852\\2682622903.py:10: DtypeWarning: Columns (19) have mixed types. Specify dtype option on import or set low_memory=False.\n",
      "  transactions = pd.read_csv(transactions_file_path)\n"
     ]
    },
    {
     "name": "stdout",
     "output_type": "stream",
     "text": [
      "Preparing tourism data...\n",
      "Merging datasets...\n"
     ]
    },
    {
     "name": "stderr",
     "output_type": "stream",
     "text": [
      "C:\\Users\\User\\AppData\\Local\\Temp\\ipykernel_13852\\2682622903.py:18: SettingWithCopyWarning: \n",
      "A value is trying to be set on a copy of a slice from a DataFrame\n",
      "\n",
      "See the caveats in the documentation: https://pandas.pydata.org/pandas-docs/stable/user_guide/indexing.html#returning-a-view-versus-a-copy\n",
      "  tourism_prepared.rename(columns={\"OBS_VALUE\": \"Revenue_Per_Room\"}, inplace=True)\n"
     ]
    },
    {
     "name": "stdout",
     "output_type": "stream",
     "text": [
      "Saving merged data...\n",
      "Merged file with tourism data saved to: D:\\Desights.ai\\Dubai Real Estate Price Prediction Challenge\\Cleaned Files\\merged_transactions_with_tourism.csv\n"
     ]
    }
   ],
   "source": [
    "import pandas as pd\n",
    "\n",
    "transactions_file_path = r\"D:\\Desights.ai\\Dubai Real Estate Price Prediction Challenge\\Cleaned Files\\merged_transactions_with_total_population.csv\"\n",
    "tourism_file_path = r\"D:\\Desights.ai\\Dubai Real Estate Price Prediction Challenge\\Cleaned Files\\Tourism\\Hotel_Establishments_Main_Indicators_cleaned.xlsx\"\n",
    "output_file_path = r\"D:\\Desights.ai\\Dubai Real Estate Price Prediction Challenge\\Cleaned Files\\merged_transactions_with_tourism.csv\"\n",
    "\n",
    "print(\"Loading datasets...\")\n",
    "transactions = pd.read_csv(transactions_file_path)\n",
    "tourism = pd.read_excel(tourism_file_path)\n",
    "\n",
    "print(\"Preparing tourism data...\")\n",
    "tourism[\"Year\"] = pd.to_datetime(tourism[\"TIME_PERIOD\"]).dt.year \n",
    "tourism_filtered = tourism[tourism[\"H_INDICATOR\"] == \"RR\"] \n",
    "tourism_prepared = tourism_filtered[[\"Year\", \"OBS_VALUE\"]] \n",
    "tourism_prepared.rename(columns={\"OBS_VALUE\": \"Revenue_Per_Room\"}, inplace=True)\n",
    "\n",
    "print(\"Merging datasets...\")\n",
    "merged_data = pd.merge(\n",
    "    transactions,\n",
    "    tourism_prepared,\n",
    "    on=\"Year\", \n",
    "    how=\"left\" \n",
    ")\n",
    "\n",
    "print(\"Saving merged data...\")\n",
    "merged_data.to_csv(output_file_path, index=False)\n",
    "\n",
    "print(f\"Merged file with tourism data saved to: {output_file_path}\")\n"
   ]
  },
  {
   "cell_type": "code",
   "execution_count": 27,
   "id": "6a0320ef-e2d2-403c-aefb-59108efffe6b",
   "metadata": {},
   "outputs": [
    {
     "name": "stdout",
     "output_type": "stream",
     "text": [
      "Loading datasets...\n"
     ]
    },
    {
     "name": "stderr",
     "output_type": "stream",
     "text": [
      "C:\\Users\\User\\AppData\\Local\\Temp\\ipykernel_13852\\1185864860.py:10: DtypeWarning: Columns (19) have mixed types. Specify dtype option on import or set low_memory=False.\n",
      "  rents_data = pd.read_csv(rents_file_path)\n"
     ]
    },
    {
     "name": "stdout",
     "output_type": "stream",
     "text": [
      "Datasets loaded successfully.\n",
      "Filtering indicators of interest...\n",
      "Pivoting indicators data...\n",
      "Merging datasets...\n",
      "Saving merged data...\n",
      "Merged file saved at: D:\\Desights.ai\\Dubai Real Estate Price Prediction Challenge\\Cleaned Files\\Transactions_Merged_With_Indicators.csv\n"
     ]
    }
   ],
   "source": [
    "import pandas as pd\n",
    "\n",
    "rents_file_path = r\"D:\\Desights.ai\\Dubai Real Estate Price Prediction Challenge\\Cleaned Files\\merged_transactions_with_tourism.csv\"\n",
    "indicators_file_path = r\"D:\\Desights.ai\\Dubai Real Estate Price Prediction Challenge\\Cleaned Files\\World Development Indicators\\World_Development_Indicator_cleaned.xlsx\"\n",
    "output_file_path = r\"D:\\Desights.ai\\Dubai Real Estate Price Prediction Challenge\\Cleaned Files\\Transactions_Merged_With_Indicators.csv\"\n",
    "\n",
    "print(\"Loading datasets...\")\n",
    "rents_data = pd.read_csv(rents_file_path)\n",
    "indicators_data = pd.read_excel(indicators_file_path)\n",
    "print(\"Datasets loaded successfully.\")\n",
    "\n",
    "rents_data['Year'] = pd.to_numeric(rents_data['Year'], errors='coerce')\n",
    "indicators_data['Year'] = pd.to_datetime(indicators_data['Year']).dt.year\n",
    "\n",
    "print(\"Filtering indicators of interest...\")\n",
    "selected_indicators = [\n",
    "    'Urban population (% of total population)',\n",
    "    'Population ages 15-64 (% of total population)',\n",
    "    'GDP per capita (current US$)',\n",
    "    'Unemployment, total (% of total labor force) (national estimate)',\n",
    "    'Population in urban agglomerations of more than 1 million (% of total population)'\n",
    "]\n",
    "indicators_data_filtered = indicators_data[indicators_data['Indicator Name'].isin(selected_indicators)]\n",
    "\n",
    "print(\"Pivoting indicators data...\")\n",
    "indicators_pivot = indicators_data_filtered.pivot_table(\n",
    "    index=['Year'],\n",
    "    columns='Indicator Name',\n",
    "    values='Value'\n",
    ").reset_index()\n",
    "\n",
    "print(\"Merging datasets...\")\n",
    "merged_data = pd.merge(\n",
    "    rents_data,\n",
    "    indicators_pivot,\n",
    "    how='left',\n",
    "    on='Year'\n",
    ")\n",
    "\n",
    "print(\"Saving merged data...\")\n",
    "merged_data.to_csv(output_file_path, index=False)\n",
    "\n",
    "print(f\"Merged file saved at: {output_file_path}\")\n"
   ]
  },
  {
   "cell_type": "markdown",
   "id": "c28cc3c0-d0c4-4900-8fcd-0a10f1b01d38",
   "metadata": {},
   "source": [
    "## Enhancing the Transactions Dataset with Macroeconomic Indicators\n",
    "\n",
    "### Objective\n",
    "\n",
    "In this section, I document the process of enriching the **transactions dataset** with various macroeconomic indicators to gain deeper insights into the economic factors influencing property transactions in Dubai. Each added dataset provides a unique perspective on the real estate market. Below, I explain the rationale for selecting specific indicators and the steps undertaken to integrate them seamlessly into the transactions dataset.\n",
    "\n",
    "---\n",
    "\n",
    "### Steps and Rationale\n",
    "\n",
    "#### 1. Adding the Consumer Price Index (CPI)\n",
    "- **Why CPI?**  \n",
    "  The **Consumer Price Index** reflects inflation trends, a crucial economic factor that impacts purchasing power and property values. By incorporating CPI, I can analyze how inflation correlates with transaction values over time.\n",
    "- **Approach Taken:**  \n",
    "  - I extracted the `YearMonth` (e.g., \"2023-07\") from the `Transaction Date` in the transactions dataset and aligned it with the same column in the CPI dataset.\n",
    "  - Averages were calculated for duplicate months in the CPI data to ensure each `YearMonth` had a unique CPI value.\n",
    "  - The `CPI Value` column was then added to the transactions dataset, ensuring that inflation trends were captured.\n",
    "\n",
    "---\n",
    "\n",
    "#### 2. Incorporating AED-USD Exchange Rates\n",
    "- **Why Currency Strength?**  \n",
    "  The AED-USD exchange rate plays a pivotal role in Dubai's property market due to the high volume of international transactions. Fluctuations in currency strength can directly impact investor behavior and property prices.\n",
    "- **Approach Taken:**  \n",
    "  - Exchange rates were matched with the `Transaction Date` in the transactions dataset using a left join.\n",
    "  - Key columns such as `Adj Close` (daily closing exchange rate) and `Return` (daily change percentage) were added to the transactions file.\n",
    "  - These additions enable me to investigate how exchange rate fluctuations influence property transactions, particularly for international buyers.\n",
    "\n",
    "---\n",
    "\n",
    "#### 3. Adding Daily GDP Data\n",
    "- **Why GDP?**  \n",
    "  Gross Domestic Product (GDP) serves as a measure of overall economic performance. By integrating GDP data, I can assess the relationship between economic health and transaction volumes or values.\n",
    "- **Approach Taken:**  \n",
    "  - I filtered the GDP data to retain only the **Total GDP (TOT_GDP)** category, as it provides a holistic measure of economic performance.\n",
    "  - The quarterly GDP data was expanded into daily values to match the granularity of the `Transaction Date`.\n",
    "  - A left join ensured that each transaction was associated with the corresponding GDP value on the transaction date.\n",
    "\n",
    "---\n",
    "\n",
    "#### 4. Incorporating Population Data\n",
    "- **Why Population Data?**  \n",
    "  Demographic trends influence housing demand, making population data a critical factor in real estate analysis. Population growth or decline provides insights into market dynamics.\n",
    "- **Approach Taken:**  \n",
    "  - I filtered the **Population Estimates and Growth by Gender** dataset to retain only the `_T` (total population) category for a comprehensive view.\n",
    "  - Population data was matched with transactions based on the `Year` extracted from the `Transaction Date`.\n",
    "  - The resulting dataset provides a foundation for understanding how demographic changes drive transaction behavior.\n",
    "\n",
    "---\n",
    "\n",
    "#### 5. Adding Tourism Indicators\n",
    "- **Why Tourism Indicators?**  \n",
    "  Tourism is a significant driver of Dubai’s economy and can affect property transactions, especially for properties in high-demand areas frequented by tourists.\n",
    "- **Approach Taken:**  \n",
    "  - I selected the **Revenue Per Room (RR)** indicator from the tourism dataset, which reflects the economic performance of the hospitality sector.\n",
    "  - The data was merged with transactions based on the `Year` extracted from the `Transaction Date`.\n",
    "  - This allows for analysis of how fluctuations in tourism-related revenue correlate with property transaction trends.\n",
    "\n",
    "---\n",
    "\n",
    "#### 6. Incorporating World Development Indicators (WDI)\n",
    "- **Why World Development Indicators?**  \n",
    "  These indicators provide a broader socioeconomic context, helping to understand long-term market drivers. Key indicators include:\n",
    "  - **Urban population (% of total population):** Indicates urbanization trends.\n",
    "  - **Population ages 15-64 (% of total population):** Highlights the working-age population.\n",
    "  - **GDP per capita:** Reflects economic capacity at an individual level.\n",
    "  - **Unemployment rates:** Indicates labor market health.\n",
    "  - **Population in urban agglomerations of >1 million:** Captures population density in metropolitan areas.\n",
    "- **Approach Taken:**  \n",
    "  - Relevant indicators were filtered and pivoted for easy integration.\n",
    "  - A left join was performed based on the `Year` extracted from the `Transaction Date`.\n",
    "  - These additions provide insights into how broader socioeconomic factors influence property transactions.\n",
    "\n",
    "---\n",
    "\n",
    "### Validation and Challenges\n",
    "\n",
    "#### Validation Process\n",
    "1. **Row Count Consistency:**  \n",
    "   The merged dataset was verified to ensure no rows were lost during integration.\n",
    "2. **Missing Data Analysis:**  \n",
    "   I evaluated the proportion of missing values for each added indicator and identified potential reasons, such as temporal mismatches or data unavailability.\n",
    "3. **Indicator Distribution:**  \n",
    "   The distribution of each added indicator was analyzed to ensure alignment with expected trends.\n",
    "\n",
    "#### Challenges\n",
    "- **Temporal Alignment:**  \n",
    "  Datasets with different temporal granularities (e.g., monthly CPI vs. daily transactions) required careful preprocessing to ensure accurate alignment.\n",
    "- **Incomplete Data:**  \n",
    "  Missing values in certain indicators (e.g., tourism data for earlier years) necessitate further imputation or exclusion in subsequent analyses.\n",
    "\n",
    "---\n",
    "\n",
    "### Outcome\n",
    "\n",
    "The enhanced transactions dataset now includes:\n",
    "- **CPI Value** for inflation trends.\n",
    "- **AED-USD exchange rates** for currency fluctuations.\n",
    "- **Daily GDP values** for economic activity.\n",
    "- **Population estimates** for demographic context.\n",
    "- **Tourism indicators** for demand insights.\n",
    "- **World Development Indicators** for socioeconomic analysis.\n",
    "\n",
    "This enriched dataset is ready for exploratory data analysis and predictive modeling, providing a comprehensive view of the factors influencing Dubai's property market.\n",
    "\n",
    "---\n",
    "\n",
    "### Next Steps\n",
    "1. Perform exploratory data analysis (EDA) to uncover patterns and correlations between the added indicators and transaction values.\n",
    "2. Build machine learning models to predict property transaction prices using the enriched dataset.\n",
    "3. Derive actionable insights for investors, policymakers, and stakeholders based on the findings.\n"
   ]
  },
  {
   "cell_type": "code",
   "execution_count": null,
   "id": "427407ae-cc21-4593-b307-866fd3ab2d2d",
   "metadata": {},
   "outputs": [],
   "source": []
  }
 ],
 "metadata": {
  "kernelspec": {
   "display_name": "Python 3 (ipykernel)",
   "language": "python",
   "name": "python3"
  },
  "language_info": {
   "codemirror_mode": {
    "name": "ipython",
    "version": 3
   },
   "file_extension": ".py",
   "mimetype": "text/x-python",
   "name": "python",
   "nbconvert_exporter": "python",
   "pygments_lexer": "ipython3",
   "version": "3.11.6"
  }
 },
 "nbformat": 4,
 "nbformat_minor": 5
}
