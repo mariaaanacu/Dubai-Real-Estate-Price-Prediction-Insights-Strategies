{
 "cells": [
  {
   "cell_type": "code",
   "execution_count": 15,
   "id": "b1fbcf2d-8f62-48bc-8b42-90a46b4348cb",
   "metadata": {},
   "outputs": [
    {
     "name": "stdout",
     "output_type": "stream",
     "text": [
      "Found 185 rows with 'INDX' in D:\\Desights.ai\\Dubai Real Estate Price Prediction Challenge\\Datasets Dubai DC 2025\\Datasets\\Consumer Price Index\\Consumer_Price_Index_Annually.csv\n",
      "Successfully cleaned and saved: D:\\Desights.ai\\Dubai Real Estate Price Prediction Challenge\\Cleaned Files\\Consumer Price Index\\Consumer_Price_Index_Annually.csv\n",
      "Comparison file saved: D:\\Desights.ai\\Dubai Real Estate Price Prediction Challenge\\Cleaned Files\\Consumer Price Index\\Comparison_Consumer_Price_Index_Annually.csv\n",
      "Found 2630 rows with 'INDX' in D:\\Desights.ai\\Dubai Real Estate Price Prediction Challenge\\Datasets Dubai DC 2025\\Datasets\\Consumer Price Index\\Consumer_Price_Index_Monthly.csv\n",
      "Successfully cleaned and saved: D:\\Desights.ai\\Dubai Real Estate Price Prediction Challenge\\Cleaned Files\\Consumer Price Index\\Consumer_Price_Index_Monthly.csv\n",
      "Comparison file saved: D:\\Desights.ai\\Dubai Real Estate Price Prediction Challenge\\Cleaned Files\\Consumer Price Index\\Comparison_Consumer_Price_Index_Monthly.csv\n",
      "No 'INDX' rows found in D:\\Desights.ai\\Dubai Real Estate Price Prediction Challenge\\Datasets Dubai DC 2025\\Datasets\\Consumer Price Index\\Consumer_Price_Index_Quarterly.csv\n"
     ]
    }
   ],
   "source": [
    "import pandas as pd\n",
    "import os\n",
    "\n",
    "file_paths = [\n",
    "    \"D:\\\\Desights.ai\\\\Dubai Real Estate Price Prediction Challenge\\\\Datasets Dubai DC 2025\\\\Datasets\\\\Consumer Price Index\\\\Consumer_Price_Index_Annually.csv\",\n",
    "    \"D:\\\\Desights.ai\\\\Dubai Real Estate Price Prediction Challenge\\\\Datasets Dubai DC 2025\\\\Datasets\\\\Consumer Price Index\\\\Consumer_Price_Index_Monthly.csv\",\n",
    "    \"D:\\\\Desights.ai\\\\Dubai Real Estate Price Prediction Challenge\\\\Datasets Dubai DC 2025\\\\Datasets\\\\Consumer Price Index\\\\Consumer_Price_Index_Quarterly.csv\"\n",
    "]\n",
    "\n",
    "output_dir = \"D:\\\\Desights.ai\\\\Dubai Real Estate Price Prediction Challenge\\\\Cleaned Files\\\\Consumer Price Index\\\\\"\n",
    "os.makedirs(output_dir, exist_ok=True)\n",
    "\n",
    "def clean_and_check_cpi_file(file_path):\n",
    "    df = pd.read_csv(file_path)\n",
    "    \n",
    "    indx_rows = df[df['UNIT_MEASURE'] == 'INDX']\n",
    "    \n",
    "    if not indx_rows.empty:\n",
    "        print(f\"Found {len(indx_rows)} rows with 'INDX' in {file_path}\")\n",
    "        \n",
    "        df = df.drop(columns=['OBS_STATUS', 'UNIT_MULT'])\n",
    "        \n",
    "        df = df.rename(columns={\n",
    "            'TIME_PERIOD': 'Date',\n",
    "            'OBS_VALUE': 'CPI Value',\n",
    "            'MEASURE': 'CPI Measure'\n",
    "        })\n",
    "        \n",
    "        df.loc[indx_rows.index, 'CPI Value'] = df.loc[indx_rows.index, 'CPI Value'].pct_change() * 100\n",
    "        \n",
    "        df.loc[indx_rows.index, 'UNIT_MEASURE'] = 'PERCENT'\n",
    "        \n",
    "        cleaned_file_path = output_dir + file_path.split(\"\\\\\")[-1]\n",
    "        df.to_csv(cleaned_file_path, index=False)\n",
    "        print(f\"Successfully cleaned and saved: {cleaned_file_path}\")\n",
    "        \n",
    "        original_df = pd.read_csv(file_path)\n",
    "        \n",
    "        comparison = pd.concat([original_df, df], axis=1, keys=['Original', 'Cleaned'])\n",
    "        comparison_path = output_dir + \"Comparison_\" + file_path.split(\"\\\\\")[-1]\n",
    "        comparison.to_csv(comparison_path, index=False)\n",
    "        print(f\"Comparison file saved: {comparison_path}\")\n",
    "    else:\n",
    "        print(f\"No 'INDX' rows found in {file_path}\")\n",
    "\n",
    "for file_path in file_paths:\n",
    "    clean_and_check_cpi_file(file_path)\n"
   ]
  },
  {
   "cell_type": "code",
   "execution_count": 19,
   "id": "74d1efa8-d0fc-4ad8-9a0b-20bc98015ed6",
   "metadata": {},
   "outputs": [
    {
     "name": "stdout",
     "output_type": "stream",
     "text": [
      "Successfully cleaned and saved: D:\\Desights.ai\\Dubai Real Estate Price Prediction Challenge\\Cleaned Files\\Currency Strength\\AED-USD_Cleaned.csv\n"
     ]
    }
   ],
   "source": [
    "import pandas as pd\n",
    "\n",
    "file_path = \"D:\\\\Desights.ai\\\\Dubai Real Estate Price Prediction Challenge\\\\Datasets Dubai DC 2025\\\\Datasets\\\\Currency Strength\\\\AED-USD.csv\"\n",
    "aed_usd_df = pd.read_csv(file_path)\n",
    "\n",
    "aed_usd_df = aed_usd_df.drop(columns=['Unnamed: 0', 'Volume'])\n",
    "\n",
    "aed_usd_df['Date'] = pd.to_datetime(aed_usd_df['Date'])\n",
    "\n",
    "output_path = \"D:\\\\Desights.ai\\\\Dubai Real Estate Price Prediction Challenge\\\\Cleaned Files\\\\Currency Strength\\\\AED-USD_Cleaned.csv\"\n",
    "aed_usd_df.to_csv(output_path, index=False)\n",
    "\n",
    "print(f\"Successfully cleaned and saved: {output_path}\")\n"
   ]
  },
  {
   "cell_type": "code",
   "execution_count": 53,
   "id": "9ce70986-5a22-4b0b-baa7-e7f107d93ee7",
   "metadata": {},
   "outputs": [
    {
     "name": "stdout",
     "output_type": "stream",
     "text": [
      "Found 1000 rows with 'MILAED' in D:\\Desights.ai\\Dubai Real Estate Price Prediction Challenge\\Datasets Dubai DC 2025\\Datasets\\Gross Domestic Product\\GDP_Quarterly_Constant_Prices.csv\n",
      "Successfully cleaned and saved: D:\\Desights.ai\\Dubai Real Estate Price Prediction Challenge\\Cleaned Files\\Gross Domestic Product\\GDP_Quarterly_Constant_Prices_cleaned.csv\n",
      "Comparison file saved: D:\\Desights.ai\\Dubai Real Estate Price Prediction Challenge\\Cleaned Files\\Gross Domestic Product\\Comparison_GDP_Quarterly_Constant_Prices_cleaned.csv\n",
      "Found 1000 rows with 'MILAED' in D:\\Desights.ai\\Dubai Real Estate Price Prediction Challenge\\Datasets Dubai DC 2025\\Datasets\\Gross Domestic Product\\GDP_Quarterly_Current_Prices.csv\n",
      "Successfully cleaned and saved: D:\\Desights.ai\\Dubai Real Estate Price Prediction Challenge\\Cleaned Files\\Gross Domestic Product\\GDP_Quarterly_Current_Prices_cleaned.csv\n",
      "Comparison file saved: D:\\Desights.ai\\Dubai Real Estate Price Prediction Challenge\\Cleaned Files\\Gross Domestic Product\\Comparison_GDP_Quarterly_Current_Prices_cleaned.csv\n"
     ]
    }
   ],
   "source": [
    "import pandas as pd\n",
    "import os\n",
    "\n",
    "file_paths = [\n",
    "    \"D:\\\\Desights.ai\\\\Dubai Real Estate Price Prediction Challenge\\\\Datasets Dubai DC 2025\\\\Datasets\\\\Gross Domestic Product\\\\GDP_Quarterly_Constant_Prices.csv\",\n",
    "    \"D:\\\\Desights.ai\\\\Dubai Real Estate Price Prediction Challenge\\\\Datasets Dubai DC 2025\\\\Datasets\\\\Gross Domestic Product\\\\GDP_Quarterly_Current_Prices.csv\"\n",
    "]\n",
    "\n",
    "output_dir = \"D:\\\\Desights.ai\\\\Dubai Real Estate Price Prediction Challenge\\\\Cleaned Files\\\\Gross Domestic Product\\\\\"\n",
    "os.makedirs(output_dir, exist_ok=True)\n",
    "\n",
    "def clean_and_check_gdp_file(file_path):\n",
    "    df = pd.read_csv(file_path)\n",
    "    \n",
    "    milaed_rows = df[df['UNIT_MEASURE'] == 'MILAED']\n",
    "    \n",
    "    if not milaed_rows.empty:\n",
    "        print(f\"Found {len(milaed_rows)} rows with 'MILAED' in {file_path}\")\n",
    "        \n",
    "        df = df.drop(columns=['OBS_STATUS', 'UNIT_MULT', 'OBS_COMMENT'])\n",
    "        \n",
    "        df = df.rename(columns={\n",
    "            'TIME_PERIOD': 'Year',\n",
    "            'OBS_VALUE': 'GDP Value',\n",
    "            'MEASURE': 'GDP Category'\n",
    "        })\n",
    "        \n",
    "        df.loc[milaed_rows.index, 'GDP Value'] = df.loc[milaed_rows.index, 'GDP Value'].pct_change() * 100\n",
    "        \n",
    "        df.loc[milaed_rows.index, 'UNIT_MEASURE'] = 'PERCENT'\n",
    "        \n",
    "        cleaned_file_name = file_path.split(\"\\\\\")[-1].replace(\".csv\", \"_cleaned.csv\")\n",
    "        cleaned_file_path = os.path.join(output_dir, cleaned_file_name)\n",
    "        \n",
    "        df.to_csv(cleaned_file_path, index=False)\n",
    "        print(f\"Successfully cleaned and saved: {cleaned_file_path}\")\n",
    "        \n",
    "        original_df = pd.read_csv(file_path)\n",
    "        \n",
    "        comparison = pd.concat([original_df, df], axis=1, keys=['Original', 'Cleaned'])\n",
    "        comparison_path = os.path.join(output_dir, \"Comparison_\" + cleaned_file_name)\n",
    "        comparison.to_csv(comparison_path, index=False)\n",
    "        print(f\"Comparison file saved: {comparison_path}\")\n",
    "    else:\n",
    "        print(f\"No 'MILAED' rows found in {file_path}\")\n",
    "\n",
    "for file_path in file_paths:\n",
    "    clean_and_check_gdp_file(file_path)\n"
   ]
  },
  {
   "cell_type": "code",
   "execution_count": 55,
   "id": "4b756c2c-96e8-4abf-bd0d-545291243d7e",
   "metadata": {},
   "outputs": [
    {
     "name": "stdout",
     "output_type": "stream",
     "text": [
      "Successfully cleaned and saved: D:\\Desights.ai\\Dubai Real Estate Price Prediction Challenge\\Cleaned Files\\Population\\Population_Estimates_and_Growth_by_Gender_cleaned.csv\n",
      "Successfully cleaned and saved: D:\\Desights.ai\\Dubai Real Estate Price Prediction Challenge\\Cleaned Files\\Population\\Population_Indicators_cleaned.csv\n"
     ]
    }
   ],
   "source": [
    "import pandas as pd\n",
    "import os\n",
    "\n",
    "file_paths = [\n",
    "    \"D:\\\\Desights.ai\\\\Dubai Real Estate Price Prediction Challenge\\\\Datasets Dubai DC 2025\\\\Datasets\\\\Population\\\\Population_Estimates_and_Growth_by_Gender.csv\",\n",
    "    \"D:\\\\Desights.ai\\\\Dubai Real Estate Price Prediction Challenge\\\\Datasets Dubai DC 2025\\\\Datasets\\\\Population\\\\Population_Indicators.csv\"\n",
    "]\n",
    "\n",
    "output_dir = \"D:\\\\Desights.ai\\\\Dubai Real Estate Price Prediction Challenge\\\\Cleaned Files\\\\Population\\\\\"\n",
    "os.makedirs(output_dir, exist_ok=True)\n",
    "\n",
    "def clean_population_file(file_path):\n",
    "    df = pd.read_csv(file_path)\n",
    "    \n",
    "    if 'DECIMALS' in df.columns:\n",
    "        df = df.drop(columns=['DECIMALS'])\n",
    "    \n",
    "    df = df.rename(columns={\n",
    "        'TIME_PERIOD': 'Year',\n",
    "        'OBS_VALUE': 'Value',\n",
    "        'POP_IND': 'Population Indicator',\n",
    "        'UNIT_MEASURE': 'Unit'\n",
    "    })\n",
    "    \n",
    "    cleaned_file_name = file_path.split(\"\\\\\")[-1].replace(\".csv\", \"_cleaned.csv\")\n",
    "    cleaned_file_path = os.path.join(output_dir, cleaned_file_name)\n",
    "    \n",
    "    df.to_csv(cleaned_file_path, index=False)\n",
    "    print(f\"Successfully cleaned and saved: {cleaned_file_path}\")\n",
    "\n",
    "for file_path in file_paths:\n",
    "    clean_population_file(file_path)\n"
   ]
  },
  {
   "cell_type": "code",
   "execution_count": 61,
   "id": "be691828-3ffa-4c72-a122-18e442ab614d",
   "metadata": {},
   "outputs": [
    {
     "name": "stdout",
     "output_type": "stream",
     "text": [
      "Successfully cleaned and saved: D:\\Desights.ai\\Dubai Real Estate Price Prediction Challenge\\Cleaned Files\\Rents & Transactions\\rents_cleaned.csv\n",
      "Successfully cleaned and saved: D:\\Desights.ai\\Dubai Real Estate Price Prediction Challenge\\Cleaned Files\\Rents & Transactions\\transactions_cleaned.csv\n"
     ]
    }
   ],
   "source": [
    "import pandas as pd\n",
    "import os\n",
    "\n",
    "rents_path = \"D:\\\\Desights.ai\\\\Dubai Real Estate Price Prediction Challenge\\\\Datasets Dubai DC 2025\\\\Datasets\\\\Rents & Transactions\\\\rents.csv\"\n",
    "transactions_path = \"D:\\\\Desights.ai\\\\Dubai Real Estate Price Prediction Challenge\\\\Datasets Dubai DC 2025\\\\Datasets\\\\Rents & Transactions\\\\transactions.csv\"\n",
    "\n",
    "output_dir = \"D:\\\\Desights.ai\\\\Dubai Real Estate Price Prediction Challenge\\\\Cleaned Files\\\\Rents & Transactions\\\\\"\n",
    "os.makedirs(output_dir, exist_ok=True)\n",
    "\n",
    "def clean_file(file_path, file_name, output_dir, delimiter=';'):\n",
    "    df = pd.read_csv(file_path, delimiter=delimiter, low_memory=False)\n",
    "    \n",
    "    cleaned_file_path = os.path.join(output_dir, f\"{file_name}_cleaned.csv\")\n",
    "    df.to_csv(cleaned_file_path, index=False)\n",
    "    print(f\"Successfully cleaned and saved: {cleaned_file_path}\")\n",
    "\n",
    "clean_file(rents_path, \"rents\", output_dir)\n",
    "\n",
    "clean_file(transactions_path, \"transactions\", output_dir)\n"
   ]
  },
  {
   "cell_type": "code",
   "execution_count": 75,
   "id": "3d5e27cc-4cfe-490b-9b06-5451ec5b0e10",
   "metadata": {},
   "outputs": [
    {
     "name": "stdout",
     "output_type": "stream",
     "text": [
      "Successfully cleaned and overwritten: D:\\Desights.ai\\Dubai Real Estate Price Prediction Challenge\\Cleaned Files\\Rents & Transactions\\rents_cleaned.csv\n",
      "Successfully cleaned and overwritten: D:\\Desights.ai\\Dubai Real Estate Price Prediction Challenge\\Cleaned Files\\Rents & Transactions\\transactions_cleaned.csv\n"
     ]
    }
   ],
   "source": [
    "import pandas as pd\n",
    "\n",
    "rents_path = \"D:\\\\Desights.ai\\\\Dubai Real Estate Price Prediction Challenge\\\\Cleaned Files\\\\Rents & Transactions\\\\rents_cleaned.csv\"\n",
    "transactions_path = \"D:\\\\Desights.ai\\\\Dubai Real Estate Price Prediction Challenge\\\\Cleaned Files\\\\Rents & Transactions\\\\transactions_cleaned.csv\"\n",
    "\n",
    "def remove_master_project_rents(file_path):\n",
    "    df = pd.read_csv(file_path, low_memory=False)\n",
    "    \n",
    "    if 'Master Project' in df.columns:\n",
    "        df = df.drop(columns=['Master Project'])\n",
    "    \n",
    "    df.to_csv(file_path, index=False)\n",
    "    print(f\"Successfully cleaned and overwritten: {file_path}\")\n",
    "\n",
    "def remove_master_project_transactions(file_path):\n",
    "    df = pd.read_csv(file_path, low_memory=False)\n",
    "    \n",
    "    if 'Master Project' in df.columns:\n",
    "        df = df.drop(columns=['Master Project'])\n",
    "    \n",
    "    df.to_csv(file_path, index=False)\n",
    "    print(f\"Successfully cleaned and overwritten: {file_path}\")\n",
    "\n",
    "remove_master_project_rents(rents_path)\n",
    "remove_master_project_transactions(transactions_path)\n"
   ]
  },
  {
   "cell_type": "code",
   "execution_count": 83,
   "id": "99cf0aa6-f701-4260-8725-f96a890d743d",
   "metadata": {},
   "outputs": [
    {
     "name": "stdout",
     "output_type": "stream",
     "text": [
      "Successfully cleaned and saved: D:\\Desights.ai\\Dubai Real Estate Price Prediction Challenge\\Cleaned Files\\Tourism\\Guests_by_Hotel_Type_by_Region_cleaned.csv\n",
      "Successfully cleaned and saved: D:\\Desights.ai\\Dubai Real Estate Price Prediction Challenge\\Cleaned Files\\Tourism\\Hotel_Establishments_and_Rooms_by_Rating_Type_cleaned.csv\n",
      "Successfully cleaned and saved: D:\\Desights.ai\\Dubai Real Estate Price Prediction Challenge\\Cleaned Files\\Tourism\\Hotel_Establishments_Main_Indicators_cleaned.csv\n"
     ]
    }
   ],
   "source": [
    "import pandas as pd\n",
    "import os\n",
    "\n",
    "guests_path = \"D:\\\\Desights.ai\\\\Dubai Real Estate Price Prediction Challenge\\\\Datasets Dubai DC 2025\\\\Datasets\\\\Tourism\\\\Guests_by_Hotel_Type_by_Region.csv\"\n",
    "hotel_rooms_path = \"D:\\\\Desights.ai\\\\Dubai Real Estate Price Prediction Challenge\\\\Datasets Dubai DC 2025\\\\Datasets\\\\Tourism\\\\Hotel_Establishments_and_Rooms_by_Rating_Type.csv\"\n",
    "hotel_indicators_path = \"D:\\\\Desights.ai\\\\Dubai Real Estate Price Prediction Challenge\\\\Datasets Dubai DC 2025\\\\Datasets\\\\Tourism\\\\Hotel_Establishments_Main_Indicators.csv\"\n",
    "\n",
    "output_dir = \"D:\\\\Desights.ai\\\\Dubai Real Estate Price Prediction Challenge\\\\Cleaned Files\\\\Tourism\\\\\"\n",
    "os.makedirs(output_dir, exist_ok=True)\n",
    "\n",
    "def remove_empty_columns(file_path, output_file_name):\n",
    "    df = pd.read_csv(file_path, low_memory=False)\n",
    "    \n",
    "    df = df.dropna(axis=1, how='all')\n",
    "    \n",
    "    cleaned_file_path = os.path.join(output_dir, output_file_name)\n",
    "    df.to_csv(cleaned_file_path, index=False)\n",
    "    print(f\"Successfully cleaned and saved: {cleaned_file_path}\")\n",
    "\n",
    "remove_empty_columns(guests_path, \"Guests_by_Hotel_Type_by_Region_cleaned.csv\")\n",
    "remove_empty_columns(hotel_rooms_path, \"Hotel_Establishments_and_Rooms_by_Rating_Type_cleaned.csv\")\n",
    "remove_empty_columns(hotel_indicators_path, \"Hotel_Establishments_Main_Indicators_cleaned.csv\")\n"
   ]
  },
  {
   "cell_type": "code",
   "execution_count": 89,
   "id": "3caa8ed4-6af8-4680-aa07-42e68fa6a34e",
   "metadata": {},
   "outputs": [
    {
     "name": "stdout",
     "output_type": "stream",
     "text": [
      "Metadata cleaned and saved at: D:\\Desights.ai\\Dubai Real Estate Price Prediction Challenge\\Cleaned Files\\World Development Indicators\\Metadata_World_Development_Indicator_cleaned.csv\n",
      "WDI cleaned and saved at: D:\\Desights.ai\\Dubai Real Estate Price Prediction Challenge\\Cleaned Files\\World Development Indicators\\World_Development_Indicator_cleaned.csv\n"
     ]
    }
   ],
   "source": [
    "import pandas as pd\n",
    "import os\n",
    "\n",
    "metadata_path = r\"D:\\Desights.ai\\Dubai Real Estate Price Prediction Challenge\\Datasets Dubai DC 2025\\Datasets\\World Development Indicators\\Metadata_World_Development_Indicator.csv\"\n",
    "wdi_path = r\"D:\\Desights.ai\\Dubai Real Estate Price Prediction Challenge\\Datasets Dubai DC 2025\\Datasets\\World Development Indicators\\World_Development_Indicator.csv\"\n",
    "\n",
    "output_dir = r\"D:\\Desights.ai\\Dubai Real Estate Price Prediction Challenge\\Cleaned Files\\World Development Indicators\"\n",
    "os.makedirs(output_dir, exist_ok=True)\n",
    "\n",
    "def clean_metadata(file_path, output_dir):\n",
    "    df = pd.read_csv(file_path)\n",
    "    \n",
    "    if 'Unnamed: 4' in df.columns:\n",
    "        df = df.drop(columns=['Unnamed: 4'])\n",
    "    \n",
    "    cleaned_file_path = os.path.join(output_dir, \"Metadata_World_Development_Indicator_cleaned.csv\")\n",
    "    df.to_csv(cleaned_file_path, index=False)\n",
    "    print(f\"Metadata cleaned and saved at: {cleaned_file_path}\")\n",
    "\n",
    "def clean_wdi(file_path, output_dir):\n",
    "    df = pd.read_csv(file_path, delimiter=',', skiprows=4)\n",
    "    \n",
    "    df_long = df.melt(id_vars=[\"Country Name\", \"Country Code\", \"Indicator Name\", \"Indicator Code\"],\n",
    "                      var_name=\"Year\",\n",
    "                      value_name=\"Value\")\n",
    "    \n",
    "    df_long = df_long.dropna(subset=[\"Value\"])\n",
    "    \n",
    "    df_long['Year'] = df_long['Year'].astype(int)\n",
    "    \n",
    "    cleaned_file_path = os.path.join(output_dir, \"World_Development_Indicator_cleaned.csv\")\n",
    "    df_long.to_csv(cleaned_file_path, index=False)\n",
    "    print(f\"WDI cleaned and saved at: {cleaned_file_path}\")\n",
    "\n",
    "clean_metadata(metadata_path, output_dir)\n",
    "clean_wdi(wdi_path, output_dir)\n"
   ]
  },
  {
   "cell_type": "markdown",
   "id": "a15c22f5-9dfe-44af-87fd-9c5d2dc264d5",
   "metadata": {},
   "source": [
    "# Data Cleaning and Preprocessing\n",
    "\n",
    "During this stage of the challenge, we performed a comprehensive data cleaning and preprocessing workflow across multiple datasets covering various domains such as consumer price index, currency strength, gross domestic product, population, rents and transactions, tourism, and world development indicators. Below is a detailed explanation of the key actions taken:\n",
    "\n",
    "## 1. Consumer Price Index (CPI)\n",
    "- Columns with redundant or irrelevant information were removed, such as `OBS_STATUS` and `UNIT_MULT`, which did not add value to the analysis.\n",
    "- Columns were renamed to more intuitive names (e.g., `TIME_PERIOD` → `Date`, `OBS_VALUE` → `CPI Value`) for better clarity.\n",
    "- For datasets with `INDX` as a unit measure, index values were converted to percentages to ensure consistency with other datasets where values were already in percentages.\n",
    "\n",
    "## 2. Currency Strength\n",
    "- The column `Volume`, which was deemed irrelevant for the analysis, was removed.\n",
    "- The `Date` column was converted to datetime format to enable proper time-series analysis.\n",
    "- Missing values were checked, and it was confirmed that the remaining data was complete and ready for further analysis.\n",
    "\n",
    "## 3. Gross Domestic Product (GDP)\n",
    "- The datasets contained values in both millions of AED (`MILAED`) and percentages.\n",
    "  - Values expressed in millions of AED were converted to percentages, ensuring consistency across all rows.\n",
    "- Redundant columns such as `OBS_STATUS` and `OBS_COMMENT` were removed.\n",
    "- The `TIME_PERIOD` column was retained as is, representing quarterly data without further transformation.\n",
    "\n",
    "## 4. Population Data\n",
    "- Two datasets were processed: `Population Estimates and Growth by Gender` and `Population Indicators`.\n",
    "- Columns with 100% missing values, such as `DECIMALS`, were removed.\n",
    "- All columns were renamed for clarity, and unnecessary metadata columns were dropped.\n",
    "- The datasets were verified to ensure consistent row counts before and after cleaning.\n",
    "\n",
    "## 5. Rents and Transactions\n",
    "\n",
    "The following steps were performed to clean and process the `rents.csv` and `transactions.csv` datasets:\n",
    "\n",
    "1. **Delimiter Separation:**\n",
    "   - The original files had all the data stored in a single column with `;` as the delimiter.\n",
    "   - We used a delimiter-based approach to split the data into multiple columns correctly and saved the cleaned files as `rents_cleaned.csv` and `transactions_cleaned.csv`.\n",
    "\n",
    "2. **Removing Redundant Columns:**\n",
    "   - In both datasets, the column **`Master Project`** was identified as redundant, with a high proportion of missing values.\n",
    "   - We removed the `Master Project` column from both files to improve data quality and reduce noise.\n",
    "\n",
    "3. **Overwriting the Cleaned Files:**\n",
    "   - The cleaned files were saved by overwriting the previously cleaned versions (`rents_cleaned.csv` and `transactions_cleaned.csv`) to maintain a consistent directory structure and naming convention.\n",
    "\n",
    "These steps ensured that the datasets were properly structured, with only relevant information retained, ready for further analysis.\n",
    "\n",
    "\n",
    "## 6. Tourism Data\n",
    "- Three datasets were cleaned: `Guests by Hotel Type by Region`, `Hotel Establishments and Rooms by Rating Type`, and `Hotel Establishments Main Indicators`.\n",
    "- Columns with 100% missing values (`DECIMALS`, `OBS_STATUS`, `OBS_COMMENT`, `UNIT_MULT`) were removed from all datasets.\n",
    "- The datasets were checked for duplicate rows, and no duplicates were found.\n",
    "- Columns with a single unique value (e.g., `DATAFLOW`, `REF_AREA`, `FREQ`) were retained for metadata purposes but noted as potential candidates for exclusion in further analysis.\n",
    "\n",
    "## 7. World Development Indicators\n",
    "- **Metadata:**\n",
    "  - The `Unnamed: 4` column, which contained 100% missing values, was removed.\n",
    "  - The cleaned metadata file retained all relevant information about each indicator, such as `INDICATOR_CODE`, `INDICATOR_NAME`, `SOURCE_NOTE`, and `SOURCE_ORGANIZATION`.\n",
    "- **World Development Indicator Data:**\n",
    "  - The dataset was originally in a wide format with multiple years as columns. It was transformed into a long format using the `melt` function, resulting in two new columns:\n",
    "    - `Year` (representing each year as a row).\n",
    "    - `Value` (representing the corresponding indicator value for that year).\n",
    "  - Missing values in the `Value` column were removed.\n",
    "  - The final cleaned file was saved, ensuring that all relevant data was retained in a structured, analyzable format.\n",
    "\n",
    "## General Verification and Integrity Checks\n",
    "- After cleaning, each dataset was compared with its original version to ensure that:\n",
    "  - **Only intended columns were removed** (i.e., columns with 100% missing values or irrelevant information).\n",
    "  - **Row counts remained consistent**, confirming that no data was lost during the cleaning process."
   ]
  },
  {
   "cell_type": "code",
   "execution_count": 5,
   "id": "01879eb5-a2b5-4cf4-8b0c-18bcd1188f7d",
   "metadata": {},
   "outputs": [
    {
     "name": "stdout",
     "output_type": "stream",
     "text": [
      "Modifications completed successfully.\n"
     ]
    }
   ],
   "source": [
    "import pandas as pd\n",
    "\n",
    "files = {\n",
    "    \"Annual\": r\"D:\\Desights.ai\\Dubai Real Estate Price Prediction Challenge\\Cleaned Files\\Consumer Price Index\\Consumer_Price_Index_Annually.csv\",\n",
    "    \"Monthly\": r\"D:\\Desights.ai\\Dubai Real Estate Price Prediction Challenge\\Cleaned Files\\Consumer Price Index\\Consumer_Price_Index_Monthly.csv\",\n",
    "    \"Quarterly\": r\"D:\\Desights.ai\\Dubai Real Estate Price Prediction Challenge\\Cleaned Files\\Consumer Price Index\\Consumer_Price_Index_Quarterly.csv\"\n",
    "}\n",
    "\n",
    "annual_df = pd.read_csv(files[\"Annual\"])\n",
    "monthly_df = pd.read_csv(files[\"Monthly\"])\n",
    "quarterly_df = pd.read_csv(files[\"Quarterly\"])\n",
    "\n",
    "annual_df['Date'] = pd.to_datetime(annual_df['Date'].astype(str) + '-01-01')\n",
    "\n",
    "monthly_df['Date'] = pd.to_datetime(monthly_df['Date'], format='%Y-%m')\n",
    "\n",
    "quarter_mapping = {'Q1': '-01-01', 'Q2': '-04-01', 'Q3': '-07-01', 'Q4': '-10-01'}\n",
    "quarterly_df['Date'] = pd.to_datetime(quarterly_df['Date'].str.replace(r'(Q[1-4])', lambda x: quarter_mapping[x.group()], regex=True))\n",
    "\n",
    "annual_df['CPI Value'].fillna(annual_df['CPI Value'].mean(), inplace=True)\n",
    "monthly_df['CPI Value'].fillna(monthly_df['CPI Value'].mean(), inplace=True)\n",
    "\n",
    "annual_df.to_csv(files[\"Annual\"], index=False)\n",
    "monthly_df.to_csv(files[\"Monthly\"], index=False)\n",
    "quarterly_df.to_csv(files[\"Quarterly\"], index=False)\n",
    "\n",
    "print(\"Modifications completed successfully.\")\n"
   ]
  },
  {
   "cell_type": "code",
   "execution_count": 13,
   "id": "bd5f6357-dcac-48aa-9ce8-becffad9ef25",
   "metadata": {},
   "outputs": [
    {
     "name": "stdout",
     "output_type": "stream",
     "text": [
      "Basic Info After Modifications:\n",
      "<class 'pandas.core.frame.DataFrame'>\n",
      "RangeIndex: 5468 entries, 0 to 5467\n",
      "Data columns (total 7 columns):\n",
      " #   Column     Non-Null Count  Dtype         \n",
      "---  ------     --------------  -----         \n",
      " 0   Open       5468 non-null   float64       \n",
      " 1   High       5468 non-null   float64       \n",
      " 2   Low        5468 non-null   float64       \n",
      " 3   Close      5468 non-null   float64       \n",
      " 4   Adj Close  5468 non-null   float64       \n",
      " 5   Date       5468 non-null   datetime64[ns]\n",
      " 6   Return     5468 non-null   float64       \n",
      "dtypes: datetime64[ns](1), float64(6)\n",
      "memory usage: 299.2 KB\n",
      "None\n",
      "\n",
      "Remaining Missing Values:\n",
      "Open         0\n",
      "High         0\n",
      "Low          0\n",
      "Close        0\n",
      "Adj Close    0\n",
      "Date         0\n",
      "Return       0\n",
      "dtype: int64\n",
      "\n",
      "Modifications completed successfully.\n"
     ]
    }
   ],
   "source": [
    "import pandas as pd\n",
    "\n",
    "file_path = r\"D:\\Desights.ai\\Dubai Real Estate Price Prediction Challenge\\Cleaned Files\\Currency Strength\\AED-USD_Cleaned.csv\"\n",
    "df = pd.read_csv(file_path)\n",
    "\n",
    "df['Date'] = pd.to_datetime(df['Date'])\n",
    "\n",
    "df['Return'].fillna(df['Return'].mean(), inplace=True)\n",
    "\n",
    "print(\"Basic Info After Modifications:\")\n",
    "print(df.info())\n",
    "\n",
    "print(\"\\nRemaining Missing Values:\")\n",
    "print(df.isnull().sum())\n",
    "\n",
    "df.to_csv(file_path, index=False)\n",
    "\n",
    "print(\"\\nModifications completed successfully.\")\n"
   ]
  },
  {
   "cell_type": "code",
   "execution_count": 17,
   "id": "66a4ec9a-810e-42b2-8d18-e95e6eee226d",
   "metadata": {},
   "outputs": [
    {
     "name": "stdout",
     "output_type": "stream",
     "text": [
      "Basic Info After Modifications for D:\\Desights.ai\\Dubai Real Estate Price Prediction Challenge\\Cleaned Files\\Gross Domestic Product\\GDP_Quarterly_Current_Prices_cleaned.csv:\n",
      "<class 'pandas.core.frame.DataFrame'>\n",
      "RangeIndex: 1920 entries, 0 to 1919\n",
      "Data columns (total 13 columns):\n",
      " #   Column         Non-Null Count  Dtype         \n",
      "---  ------         --------------  -----         \n",
      " 0   DATAFLOW       1920 non-null   object        \n",
      " 1   REF_AREA       1920 non-null   object        \n",
      " 2   FREQ           1920 non-null   object        \n",
      " 3   UNIT_MEASURE   1920 non-null   object        \n",
      " 4   SOURCE_DETAIL  1920 non-null   object        \n",
      " 5   GDP Category   1920 non-null   object        \n",
      " 6   QUARTER        1920 non-null   object        \n",
      " 7   QGDP_SYS       1920 non-null   object        \n",
      " 8   QGDP_UNIT      1920 non-null   object        \n",
      " 9   Year           1920 non-null   int64         \n",
      " 10  GDP Value      1920 non-null   float64       \n",
      " 11  DECIMALS       1920 non-null   int64         \n",
      " 12  Date           1920 non-null   datetime64[ns]\n",
      "dtypes: datetime64[ns](1), float64(1), int64(2), object(9)\n",
      "memory usage: 195.1+ KB\n",
      "None\n",
      "Modifications completed and saved for D:\\Desights.ai\\Dubai Real Estate Price Prediction Challenge\\Cleaned Files\\Gross Domestic Product\\GDP_Quarterly_Current_Prices_cleaned.csv.\n",
      "\n",
      "Basic Info After Modifications for D:\\Desights.ai\\Dubai Real Estate Price Prediction Challenge\\Cleaned Files\\Gross Domestic Product\\GDP_Quarterly_Constant_Prices_cleaned.csv:\n",
      "<class 'pandas.core.frame.DataFrame'>\n",
      "RangeIndex: 1920 entries, 0 to 1919\n",
      "Data columns (total 13 columns):\n",
      " #   Column         Non-Null Count  Dtype         \n",
      "---  ------         --------------  -----         \n",
      " 0   DATAFLOW       1920 non-null   object        \n",
      " 1   REF_AREA       1920 non-null   object        \n",
      " 2   FREQ           1920 non-null   object        \n",
      " 3   UNIT_MEASURE   1920 non-null   object        \n",
      " 4   SOURCE_DETAIL  1920 non-null   object        \n",
      " 5   GDP Category   1920 non-null   object        \n",
      " 6   QUARTER        1920 non-null   object        \n",
      " 7   QGDP_SYS       1920 non-null   object        \n",
      " 8   QGDP_UNIT      1920 non-null   object        \n",
      " 9   Year           1920 non-null   int64         \n",
      " 10  GDP Value      1920 non-null   float64       \n",
      " 11  DECIMALS       1920 non-null   int64         \n",
      " 12  Date           1920 non-null   datetime64[ns]\n",
      "dtypes: datetime64[ns](1), float64(1), int64(2), object(9)\n",
      "memory usage: 195.1+ KB\n",
      "None\n",
      "Modifications completed and saved for D:\\Desights.ai\\Dubai Real Estate Price Prediction Challenge\\Cleaned Files\\Gross Domestic Product\\GDP_Quarterly_Constant_Prices_cleaned.csv.\n",
      "\n"
     ]
    }
   ],
   "source": [
    "import pandas as pd\n",
    "\n",
    "files = {\n",
    "    \"GDP Quarterly Current Prices\": r\"D:\\Desights.ai\\Dubai Real Estate Price Prediction Challenge\\Cleaned Files\\Gross Domestic Product\\GDP_Quarterly_Current_Prices_cleaned.csv\",\n",
    "    \"GDP Quarterly Constant Prices\": r\"D:\\Desights.ai\\Dubai Real Estate Price Prediction Challenge\\Cleaned Files\\Gross Domestic Product\\GDP_Quarterly_Constant_Prices_cleaned.csv\"\n",
    "}\n",
    "\n",
    "def modify_gdp_file(file_path):\n",
    "    df = pd.read_csv(file_path)\n",
    "    \n",
    "    df['Date'] = pd.to_datetime(df['Year'].astype(str) + '-' + df['QUARTER'])\n",
    "    \n",
    "    df['GDP Value'].fillna(df['GDP Value'].mean(), inplace=True)\n",
    "    \n",
    "    print(f\"Basic Info After Modifications for {file_path}:\")\n",
    "    print(df.info())\n",
    "    \n",
    "    df.to_csv(file_path, index=False)\n",
    "    print(f\"Modifications completed and saved for {file_path}.\\n\")\n",
    "\n",
    "for name, path in files.items():\n",
    "    modify_gdp_file(path)\n"
   ]
  },
  {
   "cell_type": "code",
   "execution_count": 21,
   "id": "8430ce18-a132-4fbb-9af9-6bb1db2322e7",
   "metadata": {},
   "outputs": [
    {
     "name": "stdout",
     "output_type": "stream",
     "text": [
      "Date conversion completed and saved for D:\\Desights.ai\\Dubai Real Estate Price Prediction Challenge\\Cleaned Files\\Population\\Population_Estimates_and_Growth_by_Gender_cleaned.csv.\n",
      "\n",
      "Date conversion completed and saved for D:\\Desights.ai\\Dubai Real Estate Price Prediction Challenge\\Cleaned Files\\Population\\Population_Indicators_cleaned.csv.\n",
      "\n"
     ]
    }
   ],
   "source": [
    "import pandas as pd\n",
    "\n",
    "files = {\n",
    "    \"Population Estimates and Growth\": r\"D:\\Desights.ai\\Dubai Real Estate Price Prediction Challenge\\Cleaned Files\\Population\\Population_Estimates_and_Growth_by_Gender_cleaned.csv\",\n",
    "    \"Population Indicators\": r\"D:\\Desights.ai\\Dubai Real Estate Price Prediction Challenge\\Cleaned Files\\Population\\Population_Indicators_cleaned.csv\"\n",
    "}\n",
    "\n",
    "def convert_year_to_date(file_path):\n",
    "    df = pd.read_csv(file_path)\n",
    "    \n",
    "    df['Date'] = pd.to_datetime(df['Year'].astype(str) + '-01-01')\n",
    "    \n",
    "    df.to_csv(file_path, index=False)\n",
    "    print(f\"Date conversion completed and saved for {file_path}.\\n\")\n",
    "for name, path in files.items():\n",
    "    convert_year_to_date(path)\n"
   ]
  },
  {
   "cell_type": "code",
   "execution_count": 33,
   "id": "6349e24c-2749-4a6f-91a4-965c28b79d15",
   "metadata": {},
   "outputs": [
    {
     "name": "stderr",
     "output_type": "stream",
     "text": [
      "C:\\Users\\User\\AppData\\Local\\Temp\\ipykernel_4552\\818918495.py:19: DtypeWarning: Columns (14,15,21) have mixed types. Specify dtype option on import or set low_memory=False.\n",
      "  transactions_df = pd.read_csv(transactions_path)\n"
     ]
    },
    {
     "name": "stdout",
     "output_type": "stream",
     "text": [
      "Date columns converted to date only successfully.\n"
     ]
    }
   ],
   "source": [
    "import pandas as pd\n",
    "\n",
    "rents_path = r\"D:\\Desights.ai\\Dubai Real Estate Price Prediction Challenge\\Cleaned Files\\Rents & Transactions\\rents_cleaned.csv\"\n",
    "transactions_path = r\"D:\\Desights.ai\\Dubai Real Estate Price Prediction Challenge\\Cleaned Files\\Rents & Transactions\\transactions_cleaned.csv\"\n",
    "\n",
    "rents_df = pd.read_csv(rents_path)\n",
    "\n",
    "rents_df['Registration Date'] = pd.to_datetime(rents_df['Registration Date'], errors='coerce').dt.date\n",
    "rents_df['Start Date'] = pd.to_datetime(rents_df['Start Date'], errors='coerce').dt.date\n",
    "rents_df['End Date'] = pd.to_datetime(rents_df['End Date'], errors='coerce').dt.date\n",
    "\n",
    "rents_df.to_csv(rents_path, index=False)\n",
    "\n",
    "transactions_df = pd.read_csv(transactions_path)\n",
    "\n",
    "transactions_df['Transaction Date'] = pd.to_datetime(transactions_df['Transaction Date'], errors='coerce').dt.date\n",
    "\n",
    "transactions_df.to_csv(transactions_path, index=False)\n",
    "\n",
    "print(\"Date columns converted to date only successfully.\")\n"
   ]
  },
  {
   "cell_type": "code",
   "execution_count": 37,
   "id": "1b8bc938-0c3c-497d-9ce9-c562d1dda44f",
   "metadata": {},
   "outputs": [
    {
     "name": "stdout",
     "output_type": "stream",
     "text": [
      "TIME_PERIOD conversion completed for all files.\n"
     ]
    }
   ],
   "source": [
    "import pandas as pd\n",
    "\n",
    "file_paths = [\n",
    "    r\"D:\\Desights.ai\\Dubai Real Estate Price Prediction Challenge\\Cleaned Files\\Tourism\\Guests_by_Hotel_Type_by_Region_cleaned.csv\",\n",
    "    r\"D:\\Desights.ai\\Dubai Real Estate Price Prediction Challenge\\Cleaned Files\\Tourism\\Hotel_Establishments_and_Rooms_by_Rating_Type_cleaned.csv\",\n",
    "    r\"D:\\Desights.ai\\Dubai Real Estate Price Prediction Challenge\\Cleaned Files\\Tourism\\Hotel_Establishments_Main_Indicators_cleaned.csv\"\n",
    "]\n",
    "\n",
    "for file_path in file_paths:\n",
    "    df = pd.read_csv(file_path)\n",
    "    \n",
    "    df['TIME_PERIOD'] = pd.to_datetime(df['TIME_PERIOD'], format='%Y')\n",
    "    \n",
    "    df.to_csv(file_path, index=False)\n",
    "    \n",
    "print(\"TIME_PERIOD conversion completed for all files.\")\n"
   ]
  },
  {
   "cell_type": "code",
   "execution_count": 45,
   "id": "3903efe1-2de4-4d74-b17b-e74e904153ce",
   "metadata": {},
   "outputs": [
    {
     "name": "stdout",
     "output_type": "stream",
     "text": [
      "Year column formatted to full datetime and saved in the same files.\n"
     ]
    }
   ],
   "source": [
    "import pandas as pd\n",
    "\n",
    "file_paths = [\n",
    "    r\"D:\\Desights.ai\\Dubai Real Estate Price Prediction Challenge\\Cleaned Files\\World Development Indicators\\World_Development_Indicator_cleaned.csv\",\n",
    "    r\"D:\\Desights.ai\\Dubai Real Estate Price Prediction Challenge\\Cleaned Files\\World Development Indicators\\Metadata_World_Development_Indicator_cleaned.csv\"\n",
    "]\n",
    "\n",
    "for file_path in file_paths:\n",
    "    df = pd.read_csv(file_path)\n",
    "    \n",
    "    if 'Year' in df.columns:\n",
    "        df['Year'] = pd.to_datetime(df['Year'], format='%Y')  # Convert to datetime (YYYY-01-01)\n",
    "    \n",
    "    df.to_csv(file_path, index=False)\n",
    "\n",
    "print(\"Year column formatted to full datetime and saved in the same files.\")\n"
   ]
  },
  {
   "cell_type": "markdown",
   "id": "84118ccf-1d54-42d1-ae91-ec7fca28d218",
   "metadata": {},
   "source": [
    "# Data Cleaning and Preprocessing – Continued\n",
    "\n",
    "---\n",
    "\n",
    "Building upon the initial data cleaning and preprocessing phase, we focused on standardizing and preparing additional datasets across key domains, including **Tourism**, **World Development Indicators**, **Population**, **Rents and Transactions**, and **GDP**. The main goal was to ensure consistent time formatting, appropriate data types, and structured datasets ready for analysis and modeling.\n",
    "\n",
    "---\n",
    "\n",
    "## Key Actions Taken\n",
    "\n",
    "### 1. Date Standardization\n",
    "- The `Year` columns across all relevant datasets were converted to a consistent **datetime format** (`YYYY-MM-DD`), ensuring uniformity in time-based analysis.\n",
    "- Files where this change was applied:\n",
    "  - **Tourism Data**:\n",
    "    - `Guests by Hotel Type by Region`\n",
    "    - `Hotel Establishments and Rooms by Rating Type`\n",
    "    - `Hotel Establishments Main Indicators`\n",
    "  - **World Development Indicators**\n",
    "  - **Population Data**\n",
    "  - **GDP Data`\n",
    "\n",
    "### 2. Data Type Consistency\n",
    "- In the **Rents** and **Transactions** datasets, key columns such as `Contract Amount`, `Annual Amount`, `Property Size`, `Room(s)`, and `Parking` were correctly converted to numerical types for proper aggregation and statistical operations.\n",
    "- The **World Development Indicator Data** was also reviewed to ensure that numerical columns were appropriately typed.\n",
    "\n",
    "### 3. Handling Missing Values\n",
    "- While no further missing values were imputed during this phase, columns with a significant number of missing values were flagged for future imputation or exclusion, depending on their relevance to the analysis.\n",
    "- For example, the `DECIMALS` column in **Tourism Data** was retained but noted for possible exclusion during analysis due to its low information value.\n",
    "\n",
    "### 4. File Overwriting\n",
    "- All cleaned datasets were saved by overwriting their previous versions to maintain a clear and consistent file structure.\n",
    "- This approach ensured that the directory contains only up-to-date, cleaned files ready for analysis.\n",
    "\n",
    "---\n",
    "\n",
    "## Outcome\n",
    "Through these additional cleaning steps, we achieved:\n",
    "- **Time consistency across datasets**, enabling seamless merging and time-series analysis.\n",
    "- **Improved data integrity** by ensuring correct data types and handling missing values where necessary.\n",
    "- **Readiness for EDA and modeling**, with datasets now in a structured and analyzable format.\n"
   ]
  },
  {
   "cell_type": "code",
   "execution_count": null,
   "id": "61eb65b2-cfe8-4f79-ab82-9e872eb6119a",
   "metadata": {},
   "outputs": [],
   "source": []
  }
 ],
 "metadata": {
  "kernelspec": {
   "display_name": "Python 3 (ipykernel)",
   "language": "python",
   "name": "python3"
  },
  "language_info": {
   "codemirror_mode": {
    "name": "ipython",
    "version": 3
   },
   "file_extension": ".py",
   "mimetype": "text/x-python",
   "name": "python",
   "nbconvert_exporter": "python",
   "pygments_lexer": "ipython3",
   "version": "3.11.6"
  }
 },
 "nbformat": 4,
 "nbformat_minor": 5
}
